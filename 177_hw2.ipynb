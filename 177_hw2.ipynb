{
 "cells": [
  {
   "cell_type": "code",
   "execution_count": 2,
   "metadata": {},
   "outputs": [],
   "source": [
    "import pandas as pd\n",
    "import numpy as np\n",
    "import matplotlib.pyplot as plt\n",
    "import seaborn as sns\n",
    "from sklearn import preprocessing\n",
    "from sklearn.ensemble import RandomForestRegressor\n",
    "from sklearn.model_selection import train_test_split"
   ]
  },
  {
   "cell_type": "markdown",
   "metadata": {},
   "source": [
    "#### Reading data"
   ]
  },
  {
   "cell_type": "code",
   "execution_count": 3,
   "metadata": {},
   "outputs": [],
   "source": [
    "df = pd.read_csv('house_price_data.csv')"
   ]
  },
  {
   "cell_type": "code",
   "execution_count": 4,
   "metadata": {},
   "outputs": [
    {
     "data": {
      "text/html": [
       "<div>\n",
       "<style scoped>\n",
       "    .dataframe tbody tr th:only-of-type {\n",
       "        vertical-align: middle;\n",
       "    }\n",
       "\n",
       "    .dataframe tbody tr th {\n",
       "        vertical-align: top;\n",
       "    }\n",
       "\n",
       "    .dataframe thead th {\n",
       "        text-align: right;\n",
       "    }\n",
       "</style>\n",
       "<table border=\"1\" class=\"dataframe\">\n",
       "  <thead>\n",
       "    <tr style=\"text-align: right;\">\n",
       "      <th></th>\n",
       "      <th>Id</th>\n",
       "      <th>MSSubClass</th>\n",
       "      <th>MSZoning</th>\n",
       "      <th>LotFrontage</th>\n",
       "      <th>LotArea</th>\n",
       "      <th>Street</th>\n",
       "      <th>Alley</th>\n",
       "      <th>LotShape</th>\n",
       "      <th>LandContour</th>\n",
       "      <th>Utilities</th>\n",
       "      <th>...</th>\n",
       "      <th>PoolArea</th>\n",
       "      <th>PoolQC</th>\n",
       "      <th>Fence</th>\n",
       "      <th>MiscFeature</th>\n",
       "      <th>MiscVal</th>\n",
       "      <th>MoSold</th>\n",
       "      <th>YrSold</th>\n",
       "      <th>SaleType</th>\n",
       "      <th>SaleCondition</th>\n",
       "      <th>SalePrice</th>\n",
       "    </tr>\n",
       "  </thead>\n",
       "  <tbody>\n",
       "    <tr>\n",
       "      <th>0</th>\n",
       "      <td>1</td>\n",
       "      <td>60</td>\n",
       "      <td>RL</td>\n",
       "      <td>65.0</td>\n",
       "      <td>8450</td>\n",
       "      <td>Pave</td>\n",
       "      <td>NaN</td>\n",
       "      <td>Reg</td>\n",
       "      <td>Lvl</td>\n",
       "      <td>AllPub</td>\n",
       "      <td>...</td>\n",
       "      <td>0</td>\n",
       "      <td>NaN</td>\n",
       "      <td>NaN</td>\n",
       "      <td>NaN</td>\n",
       "      <td>0</td>\n",
       "      <td>2</td>\n",
       "      <td>2008</td>\n",
       "      <td>WD</td>\n",
       "      <td>Normal</td>\n",
       "      <td>208500</td>\n",
       "    </tr>\n",
       "    <tr>\n",
       "      <th>1</th>\n",
       "      <td>2</td>\n",
       "      <td>20</td>\n",
       "      <td>RL</td>\n",
       "      <td>80.0</td>\n",
       "      <td>9600</td>\n",
       "      <td>Pave</td>\n",
       "      <td>NaN</td>\n",
       "      <td>Reg</td>\n",
       "      <td>Lvl</td>\n",
       "      <td>AllPub</td>\n",
       "      <td>...</td>\n",
       "      <td>0</td>\n",
       "      <td>NaN</td>\n",
       "      <td>NaN</td>\n",
       "      <td>NaN</td>\n",
       "      <td>0</td>\n",
       "      <td>5</td>\n",
       "      <td>2007</td>\n",
       "      <td>WD</td>\n",
       "      <td>Normal</td>\n",
       "      <td>181500</td>\n",
       "    </tr>\n",
       "    <tr>\n",
       "      <th>2</th>\n",
       "      <td>3</td>\n",
       "      <td>60</td>\n",
       "      <td>RL</td>\n",
       "      <td>68.0</td>\n",
       "      <td>11250</td>\n",
       "      <td>Pave</td>\n",
       "      <td>NaN</td>\n",
       "      <td>IR1</td>\n",
       "      <td>Lvl</td>\n",
       "      <td>AllPub</td>\n",
       "      <td>...</td>\n",
       "      <td>0</td>\n",
       "      <td>NaN</td>\n",
       "      <td>NaN</td>\n",
       "      <td>NaN</td>\n",
       "      <td>0</td>\n",
       "      <td>9</td>\n",
       "      <td>2008</td>\n",
       "      <td>WD</td>\n",
       "      <td>Normal</td>\n",
       "      <td>223500</td>\n",
       "    </tr>\n",
       "    <tr>\n",
       "      <th>3</th>\n",
       "      <td>4</td>\n",
       "      <td>70</td>\n",
       "      <td>RL</td>\n",
       "      <td>60.0</td>\n",
       "      <td>9550</td>\n",
       "      <td>Pave</td>\n",
       "      <td>NaN</td>\n",
       "      <td>IR1</td>\n",
       "      <td>Lvl</td>\n",
       "      <td>AllPub</td>\n",
       "      <td>...</td>\n",
       "      <td>0</td>\n",
       "      <td>NaN</td>\n",
       "      <td>NaN</td>\n",
       "      <td>NaN</td>\n",
       "      <td>0</td>\n",
       "      <td>2</td>\n",
       "      <td>2006</td>\n",
       "      <td>WD</td>\n",
       "      <td>Abnorml</td>\n",
       "      <td>140000</td>\n",
       "    </tr>\n",
       "    <tr>\n",
       "      <th>4</th>\n",
       "      <td>5</td>\n",
       "      <td>60</td>\n",
       "      <td>RL</td>\n",
       "      <td>84.0</td>\n",
       "      <td>14260</td>\n",
       "      <td>Pave</td>\n",
       "      <td>NaN</td>\n",
       "      <td>IR1</td>\n",
       "      <td>Lvl</td>\n",
       "      <td>AllPub</td>\n",
       "      <td>...</td>\n",
       "      <td>0</td>\n",
       "      <td>NaN</td>\n",
       "      <td>NaN</td>\n",
       "      <td>NaN</td>\n",
       "      <td>0</td>\n",
       "      <td>12</td>\n",
       "      <td>2008</td>\n",
       "      <td>WD</td>\n",
       "      <td>Normal</td>\n",
       "      <td>250000</td>\n",
       "    </tr>\n",
       "  </tbody>\n",
       "</table>\n",
       "<p>5 rows × 81 columns</p>\n",
       "</div>"
      ],
      "text/plain": [
       "   Id  MSSubClass MSZoning  LotFrontage  LotArea Street Alley LotShape  \\\n",
       "0   1          60       RL         65.0     8450   Pave   NaN      Reg   \n",
       "1   2          20       RL         80.0     9600   Pave   NaN      Reg   \n",
       "2   3          60       RL         68.0    11250   Pave   NaN      IR1   \n",
       "3   4          70       RL         60.0     9550   Pave   NaN      IR1   \n",
       "4   5          60       RL         84.0    14260   Pave   NaN      IR1   \n",
       "\n",
       "  LandContour Utilities  ... PoolArea PoolQC Fence MiscFeature MiscVal MoSold  \\\n",
       "0         Lvl    AllPub  ...        0    NaN   NaN         NaN       0      2   \n",
       "1         Lvl    AllPub  ...        0    NaN   NaN         NaN       0      5   \n",
       "2         Lvl    AllPub  ...        0    NaN   NaN         NaN       0      9   \n",
       "3         Lvl    AllPub  ...        0    NaN   NaN         NaN       0      2   \n",
       "4         Lvl    AllPub  ...        0    NaN   NaN         NaN       0     12   \n",
       "\n",
       "  YrSold  SaleType  SaleCondition  SalePrice  \n",
       "0   2008        WD         Normal     208500  \n",
       "1   2007        WD         Normal     181500  \n",
       "2   2008        WD         Normal     223500  \n",
       "3   2006        WD        Abnorml     140000  \n",
       "4   2008        WD         Normal     250000  \n",
       "\n",
       "[5 rows x 81 columns]"
      ]
     },
     "execution_count": 4,
     "metadata": {},
     "output_type": "execute_result"
    }
   ],
   "source": [
    "df.head()"
   ]
  },
  {
   "cell_type": "code",
   "execution_count": 5,
   "metadata": {},
   "outputs": [
    {
     "data": {
      "text/plain": [
       "(1460, 81)"
      ]
     },
     "execution_count": 5,
     "metadata": {},
     "output_type": "execute_result"
    }
   ],
   "source": [
    "df.shape"
   ]
  },
  {
   "cell_type": "code",
   "execution_count": 6,
   "metadata": {},
   "outputs": [
    {
     "name": "stdout",
     "output_type": "stream",
     "text": [
      "Number of duplicate rows = 0\n"
     ]
    }
   ],
   "source": [
    "dups = df.duplicated()\n",
    "print('Number of duplicate rows = %d' % (dups.sum()))"
   ]
  },
  {
   "cell_type": "code",
   "execution_count": 7,
   "metadata": {},
   "outputs": [
    {
     "data": {
      "text/plain": [
       "(1460,)"
      ]
     },
     "execution_count": 7,
     "metadata": {},
     "output_type": "execute_result"
    }
   ],
   "source": [
    "## Target feature\n",
    "y = df['SalePrice']\n",
    "y.shape"
   ]
  },
  {
   "cell_type": "markdown",
   "metadata": {},
   "source": [
    "#### Dropping target feature and nonessential feature"
   ]
  },
  {
   "cell_type": "code",
   "execution_count": 8,
   "metadata": {},
   "outputs": [],
   "source": [
    "df.drop(['SalePrice', 'Id'], axis=1,inplace=True)"
   ]
  },
  {
   "cell_type": "markdown",
   "metadata": {},
   "source": [
    "#### Checking columns with null values"
   ]
  },
  {
   "cell_type": "code",
   "execution_count": 9,
   "metadata": {},
   "outputs": [
    {
     "name": "stdout",
     "output_type": "stream",
     "text": [
      "LotFrontage: 259\n",
      "Alley: 1369\n",
      "MasVnrType: 8\n",
      "MasVnrArea: 8\n",
      "BsmtQual: 37\n",
      "BsmtCond: 37\n",
      "BsmtExposure: 38\n",
      "BsmtFinType1: 37\n",
      "BsmtFinType2: 38\n",
      "Electrical: 1\n",
      "FireplaceQu: 690\n",
      "GarageType: 81\n",
      "GarageYrBlt: 81\n",
      "GarageFinish: 81\n",
      "GarageQual: 81\n",
      "GarageCond: 81\n",
      "PoolQC: 1453\n",
      "Fence: 1179\n",
      "MiscFeature: 1406\n"
     ]
    }
   ],
   "source": [
    "df_null = []\n",
    "for col in df.columns:\n",
    "    n = df[col].isnull().sum()\n",
    "    if(n>0):\n",
    "        df_null.append(col)\n",
    "        print('%s: %d' % (col,df[col].isnull().sum()))"
   ]
  },
  {
   "cell_type": "code",
   "execution_count": 10,
   "metadata": {},
   "outputs": [
    {
     "data": {
      "text/plain": [
       "LotFrontage     float64\n",
       "Alley            object\n",
       "MasVnrType       object\n",
       "MasVnrArea      float64\n",
       "BsmtQual         object\n",
       "BsmtCond         object\n",
       "BsmtExposure     object\n",
       "BsmtFinType1     object\n",
       "BsmtFinType2     object\n",
       "Electrical       object\n",
       "FireplaceQu      object\n",
       "GarageType       object\n",
       "GarageYrBlt     float64\n",
       "GarageFinish     object\n",
       "GarageQual       object\n",
       "GarageCond       object\n",
       "PoolQC           object\n",
       "Fence            object\n",
       "MiscFeature      object\n",
       "dtype: object"
      ]
     },
     "execution_count": 10,
     "metadata": {},
     "output_type": "execute_result"
    }
   ],
   "source": [
    "df2 = df[df_null]\n",
    "df2.dtypes"
   ]
  },
  {
   "cell_type": "markdown",
   "metadata": {},
   "source": [
    "#### Dropping columns with object type having null values"
   ]
  },
  {
   "cell_type": "code",
   "execution_count": 11,
   "metadata": {},
   "outputs": [],
   "source": [
    "cols_to_drop = []\n",
    "cols_na = []\n",
    "for col in df2.columns:\n",
    "    if df[col].dtype == 'O':\n",
    "        cols_to_drop.append(col)\n",
    "    else:\n",
    "        cols_na.append(col)"
   ]
  },
  {
   "cell_type": "code",
   "execution_count": 12,
   "metadata": {},
   "outputs": [
    {
     "data": {
      "text/plain": [
       "(1460, 63)"
      ]
     },
     "execution_count": 12,
     "metadata": {},
     "output_type": "execute_result"
    }
   ],
   "source": [
    "df.drop(columns = cols_to_drop, axis=1, inplace=True)\n",
    "df.shape"
   ]
  },
  {
   "cell_type": "code",
   "execution_count": 13,
   "metadata": {},
   "outputs": [
    {
     "name": "stdout",
     "output_type": "stream",
     "text": [
      "LotFrontage: 259\n",
      "MasVnrArea: 8\n",
      "GarageYrBlt: 81\n"
     ]
    }
   ],
   "source": [
    "for col in df.columns:\n",
    "    n = df[col].isnull().sum()\n",
    "    if(n>0):\n",
    "#         df_null.append(col)\n",
    "        print('%s: %d' % (col,df[col].isnull().sum()))"
   ]
  },
  {
   "cell_type": "code",
   "execution_count": 14,
   "metadata": {},
   "outputs": [
    {
     "name": "stdout",
     "output_type": "stream",
     "text": [
      "Before replacing missing values:\n",
      "40     84.0\n",
      "41    115.0\n",
      "42      NaN\n",
      "43      NaN\n",
      "44     70.0\n",
      "Name: LotFrontage, dtype: float64\n",
      "Before replacing missing values:\n",
      "40    101.0\n",
      "41      0.0\n",
      "42      0.0\n",
      "43      0.0\n",
      "44      0.0\n",
      "Name: MasVnrArea, dtype: float64\n",
      "Before replacing missing values:\n",
      "40    1965.0\n",
      "41    1959.0\n",
      "42    1983.0\n",
      "43    1977.0\n",
      "44    1959.0\n",
      "Name: GarageYrBlt, dtype: float64\n"
     ]
    }
   ],
   "source": [
    "for col in df.columns:\n",
    "    n = df[col].isnull().sum()\n",
    "    if(n>0):\n",
    "        print('Before replacing missing values:')\n",
    "        print(df[col].iloc[40:45])\n",
    "#         df = df.fillna(df.median())\n",
    "#         print('\\nAfter replacing missing values:')\n",
    "#         print(df[col].iloc[40:45])"
   ]
  },
  {
   "cell_type": "markdown",
   "metadata": {},
   "source": [
    "#### Replacing null columns with median values"
   ]
  },
  {
   "cell_type": "code",
   "execution_count": 15,
   "metadata": {},
   "outputs": [
    {
     "name": "stdout",
     "output_type": "stream",
     "text": [
      "\n",
      "After replacing missing values:\n",
      "40     84.0\n",
      "41    115.0\n",
      "42     69.0\n",
      "43     69.0\n",
      "44     70.0\n",
      "Name: LotFrontage, dtype: float64\n",
      "\n",
      "After replacing missing values:\n",
      "40    101.0\n",
      "41      0.0\n",
      "42      0.0\n",
      "43      0.0\n",
      "44      0.0\n",
      "Name: MasVnrArea, dtype: float64\n",
      "\n",
      "After replacing missing values:\n",
      "40    1965.0\n",
      "41    1959.0\n",
      "42    1983.0\n",
      "43    1977.0\n",
      "44    1959.0\n",
      "Name: GarageYrBlt, dtype: float64\n"
     ]
    }
   ],
   "source": [
    "df = df.fillna(df.median())\n",
    "for col in cols_na:\n",
    "    print('\\nAfter replacing missing values:')\n",
    "    print(df[col].iloc[40:45])"
   ]
  },
  {
   "cell_type": "code",
   "execution_count": 16,
   "metadata": {},
   "outputs": [
    {
     "data": {
      "text/plain": [
       "(1460, 63)"
      ]
     },
     "execution_count": 16,
     "metadata": {},
     "output_type": "execute_result"
    }
   ],
   "source": [
    "df.shape"
   ]
  },
  {
   "cell_type": "code",
   "execution_count": 17,
   "metadata": {},
   "outputs": [
    {
     "data": {
      "text/plain": [
       "MSSubClass         int64\n",
       "MSZoning          object\n",
       "LotFrontage      float64\n",
       "LotArea            int64\n",
       "Street            object\n",
       "LotShape          object\n",
       "LandContour       object\n",
       "Utilities         object\n",
       "LotConfig         object\n",
       "LandSlope         object\n",
       "Neighborhood      object\n",
       "Condition1        object\n",
       "Condition2        object\n",
       "BldgType          object\n",
       "HouseStyle        object\n",
       "OverallQual        int64\n",
       "OverallCond        int64\n",
       "YearBuilt          int64\n",
       "YearRemodAdd       int64\n",
       "RoofStyle         object\n",
       "RoofMatl          object\n",
       "Exterior1st       object\n",
       "Exterior2nd       object\n",
       "MasVnrArea       float64\n",
       "ExterQual         object\n",
       "ExterCond         object\n",
       "Foundation        object\n",
       "BsmtFinSF1         int64\n",
       "BsmtFinSF2         int64\n",
       "BsmtUnfSF          int64\n",
       "                  ...   \n",
       "CentralAir        object\n",
       "1stFlrSF           int64\n",
       "2ndFlrSF           int64\n",
       "LowQualFinSF       int64\n",
       "GrLivArea          int64\n",
       "BsmtFullBath       int64\n",
       "BsmtHalfBath       int64\n",
       "FullBath           int64\n",
       "HalfBath           int64\n",
       "BedroomAbvGr       int64\n",
       "KitchenAbvGr       int64\n",
       "KitchenQual       object\n",
       "TotRmsAbvGrd       int64\n",
       "Functional        object\n",
       "Fireplaces         int64\n",
       "GarageYrBlt      float64\n",
       "GarageCars         int64\n",
       "GarageArea         int64\n",
       "PavedDrive        object\n",
       "WoodDeckSF         int64\n",
       "OpenPorchSF        int64\n",
       "EnclosedPorch      int64\n",
       "3SsnPorch          int64\n",
       "ScreenPorch        int64\n",
       "PoolArea           int64\n",
       "MiscVal            int64\n",
       "MoSold             int64\n",
       "YrSold             int64\n",
       "SaleType          object\n",
       "SaleCondition     object\n",
       "Length: 63, dtype: object"
      ]
     },
     "execution_count": 17,
     "metadata": {},
     "output_type": "execute_result"
    }
   ],
   "source": [
    "df.dtypes"
   ]
  },
  {
   "cell_type": "markdown",
   "metadata": {},
   "source": [
    "### Converting strings to categorical values using Label Encoder"
   ]
  },
  {
   "cell_type": "code",
   "execution_count": 18,
   "metadata": {},
   "outputs": [
    {
     "name": "stdout",
     "output_type": "stream",
     "text": [
      "['WD' 'New' 'COD' 'ConLD' 'ConLI' 'CWD' 'ConLw' 'Con' 'Oth']\n"
     ]
    }
   ],
   "source": [
    "print(df['SaleType'].unique())"
   ]
  },
  {
   "cell_type": "code",
   "execution_count": 19,
   "metadata": {},
   "outputs": [
    {
     "name": "stdout",
     "output_type": "stream",
     "text": [
      "[8 6 0 3 4 1 5 2 7]\n"
     ]
    }
   ],
   "source": [
    "for i in range(df.shape[1]):\n",
    "    if df.iloc[:,i].dtypes == object:\n",
    "        le = preprocessing.LabelEncoder()\n",
    "        le.fit(list(df.iloc[:,i].values))\n",
    "        df.iloc[:,i] = le.transform(list(df.iloc[:,i].values))\n",
    "\n",
    "print(df['SaleType'].unique())"
   ]
  },
  {
   "cell_type": "markdown",
   "metadata": {},
   "source": [
    "### Normality check for the target"
   ]
  },
  {
   "cell_type": "code",
   "execution_count": 20,
   "metadata": {},
   "outputs": [
    {
     "data": {
      "image/png": "[encoded data removed]",
      "text/plain": [
       "<Figure size 432x288 with 1 Axes>"
      ]
     },
     "metadata": {
      "needs_background": "light"
     },
     "output_type": "display_data"
    }
   ],
   "source": [
    "ax = sns.distplot(y)\n",
    "plt.show()"
   ]
  },
  {
   "cell_type": "markdown",
   "metadata": {},
   "source": [
    "### log-transform to make normally distributed"
   ]
  },
  {
   "cell_type": "code",
   "execution_count": 21,
   "metadata": {},
   "outputs": [
    {
     "data": {
      "image/png": "[encoded data removed]",
      "text/plain": [
       "<Figure size 432x288 with 1 Axes>"
      ]
     },
     "metadata": {
      "needs_background": "light"
     },
     "output_type": "display_data"
    }
   ],
   "source": [
    "y = np.log(y)\n",
    "\n",
    "ax = sns.distplot(y)\n",
    "plt.show()"
   ]
  },
  {
   "cell_type": "code",
   "execution_count": 22,
   "metadata": {},
   "outputs": [
    {
     "data": {
      "text/plain": [
       "0    12.247694\n",
       "1    12.109011\n",
       "2    12.317167\n",
       "3    11.849398\n",
       "4    12.429216\n",
       "5    11.870600\n",
       "6    12.634603\n",
       "7    12.206073\n",
       "8    11.774520\n",
       "9    11.678440\n",
       "Name: SalePrice, dtype: float64"
      ]
     },
     "execution_count": 22,
     "metadata": {},
     "output_type": "execute_result"
    }
   ],
   "source": [
    "y[0:10]"
   ]
  },
  {
   "cell_type": "markdown",
   "metadata": {},
   "source": [
    "### Random Forest for feature extraction"
   ]
  },
  {
   "cell_type": "code",
   "execution_count": 23,
   "metadata": {},
   "outputs": [
    {
     "name": "stdout",
     "output_type": "stream",
     "text": [
      "Training done using Random Forest\n"
     ]
    },
    {
     "data": {
      "image/png": "[encoded data removed]",
      "text/plain": [
       "<Figure size 792x648 with 1 Axes>"
      ]
     },
     "metadata": {
      "needs_background": "light"
     },
     "output_type": "display_data"
    }
   ],
   "source": [
    "rf = RandomForestRegressor(n_estimators=80, max_features='auto')\n",
    "rf.fit(df, y)\n",
    "print('Training done using Random Forest')\n",
    "\n",
    "ranking = np.argsort(-rf.feature_importances_)\n",
    "f, ax = plt.subplots(figsize=(11, 9))\n",
    "sns.barplot(x=rf.feature_importances_[ranking], y=df.columns.values[ranking], orient='h')\n",
    "ax.set_xlabel(\"feature importance\")\n",
    "plt.tight_layout()\n",
    "plt.show()\n"
   ]
  },
  {
   "cell_type": "markdown",
   "metadata": {},
   "source": [
    "#### Selecting top 30 features "
   ]
  },
  {
   "cell_type": "code",
   "execution_count": 24,
   "metadata": {},
   "outputs": [],
   "source": [
    "X = df.iloc[:,ranking[:30]]"
   ]
  },
  {
   "cell_type": "code",
   "execution_count": 25,
   "metadata": {},
   "outputs": [
    {
     "data": {
      "text/plain": [
       "(1460, 30)"
      ]
     },
     "execution_count": 25,
     "metadata": {},
     "output_type": "execute_result"
    }
   ],
   "source": [
    "X.shape"
   ]
  },
  {
   "cell_type": "code",
   "execution_count": 26,
   "metadata": {},
   "outputs": [
    {
     "data": {
      "text/html": [
       "<div>\n",
       "<style scoped>\n",
       "    .dataframe tbody tr th:only-of-type {\n",
       "        vertical-align: middle;\n",
       "    }\n",
       "\n",
       "    .dataframe tbody tr th {\n",
       "        vertical-align: top;\n",
       "    }\n",
       "\n",
       "    .dataframe thead th {\n",
       "        text-align: right;\n",
       "    }\n",
       "</style>\n",
       "<table border=\"1\" class=\"dataframe\">\n",
       "  <thead>\n",
       "    <tr style=\"text-align: right;\">\n",
       "      <th></th>\n",
       "      <th>OverallQual</th>\n",
       "      <th>GrLivArea</th>\n",
       "      <th>GarageCars</th>\n",
       "      <th>TotalBsmtSF</th>\n",
       "      <th>1stFlrSF</th>\n",
       "      <th>BsmtFinSF1</th>\n",
       "      <th>GarageArea</th>\n",
       "      <th>YearBuilt</th>\n",
       "      <th>OverallCond</th>\n",
       "      <th>LotArea</th>\n",
       "      <th>...</th>\n",
       "      <th>MoSold</th>\n",
       "      <th>MasVnrArea</th>\n",
       "      <th>WoodDeckSF</th>\n",
       "      <th>TotRmsAbvGrd</th>\n",
       "      <th>MSSubClass</th>\n",
       "      <th>SaleCondition</th>\n",
       "      <th>Exterior1st</th>\n",
       "      <th>KitchenQual</th>\n",
       "      <th>EnclosedPorch</th>\n",
       "      <th>KitchenAbvGr</th>\n",
       "    </tr>\n",
       "  </thead>\n",
       "  <tbody>\n",
       "    <tr>\n",
       "      <th>0</th>\n",
       "      <td>7</td>\n",
       "      <td>1710</td>\n",
       "      <td>2</td>\n",
       "      <td>856</td>\n",
       "      <td>856</td>\n",
       "      <td>706</td>\n",
       "      <td>548</td>\n",
       "      <td>2003</td>\n",
       "      <td>5</td>\n",
       "      <td>8450</td>\n",
       "      <td>...</td>\n",
       "      <td>2</td>\n",
       "      <td>196.0</td>\n",
       "      <td>0</td>\n",
       "      <td>8</td>\n",
       "      <td>60</td>\n",
       "      <td>4</td>\n",
       "      <td>12</td>\n",
       "      <td>2</td>\n",
       "      <td>0</td>\n",
       "      <td>1</td>\n",
       "    </tr>\n",
       "    <tr>\n",
       "      <th>1</th>\n",
       "      <td>6</td>\n",
       "      <td>1262</td>\n",
       "      <td>2</td>\n",
       "      <td>1262</td>\n",
       "      <td>1262</td>\n",
       "      <td>978</td>\n",
       "      <td>460</td>\n",
       "      <td>1976</td>\n",
       "      <td>8</td>\n",
       "      <td>9600</td>\n",
       "      <td>...</td>\n",
       "      <td>5</td>\n",
       "      <td>0.0</td>\n",
       "      <td>298</td>\n",
       "      <td>6</td>\n",
       "      <td>20</td>\n",
       "      <td>4</td>\n",
       "      <td>8</td>\n",
       "      <td>3</td>\n",
       "      <td>0</td>\n",
       "      <td>1</td>\n",
       "    </tr>\n",
       "    <tr>\n",
       "      <th>2</th>\n",
       "      <td>7</td>\n",
       "      <td>1786</td>\n",
       "      <td>2</td>\n",
       "      <td>920</td>\n",
       "      <td>920</td>\n",
       "      <td>486</td>\n",
       "      <td>608</td>\n",
       "      <td>2001</td>\n",
       "      <td>5</td>\n",
       "      <td>11250</td>\n",
       "      <td>...</td>\n",
       "      <td>9</td>\n",
       "      <td>162.0</td>\n",
       "      <td>0</td>\n",
       "      <td>6</td>\n",
       "      <td>60</td>\n",
       "      <td>4</td>\n",
       "      <td>12</td>\n",
       "      <td>2</td>\n",
       "      <td>0</td>\n",
       "      <td>1</td>\n",
       "    </tr>\n",
       "    <tr>\n",
       "      <th>3</th>\n",
       "      <td>7</td>\n",
       "      <td>1717</td>\n",
       "      <td>3</td>\n",
       "      <td>756</td>\n",
       "      <td>961</td>\n",
       "      <td>216</td>\n",
       "      <td>642</td>\n",
       "      <td>1915</td>\n",
       "      <td>5</td>\n",
       "      <td>9550</td>\n",
       "      <td>...</td>\n",
       "      <td>2</td>\n",
       "      <td>0.0</td>\n",
       "      <td>0</td>\n",
       "      <td>7</td>\n",
       "      <td>70</td>\n",
       "      <td>0</td>\n",
       "      <td>13</td>\n",
       "      <td>2</td>\n",
       "      <td>272</td>\n",
       "      <td>1</td>\n",
       "    </tr>\n",
       "    <tr>\n",
       "      <th>4</th>\n",
       "      <td>8</td>\n",
       "      <td>2198</td>\n",
       "      <td>3</td>\n",
       "      <td>1145</td>\n",
       "      <td>1145</td>\n",
       "      <td>655</td>\n",
       "      <td>836</td>\n",
       "      <td>2000</td>\n",
       "      <td>5</td>\n",
       "      <td>14260</td>\n",
       "      <td>...</td>\n",
       "      <td>12</td>\n",
       "      <td>350.0</td>\n",
       "      <td>192</td>\n",
       "      <td>9</td>\n",
       "      <td>60</td>\n",
       "      <td>4</td>\n",
       "      <td>12</td>\n",
       "      <td>2</td>\n",
       "      <td>0</td>\n",
       "      <td>1</td>\n",
       "    </tr>\n",
       "  </tbody>\n",
       "</table>\n",
       "<p>5 rows × 30 columns</p>\n",
       "</div>"
      ],
      "text/plain": [
       "   OverallQual  GrLivArea  GarageCars  TotalBsmtSF  1stFlrSF  BsmtFinSF1  \\\n",
       "0            7       1710           2          856       856         706   \n",
       "1            6       1262           2         1262      1262         978   \n",
       "2            7       1786           2          920       920         486   \n",
       "3            7       1717           3          756       961         216   \n",
       "4            8       2198           3         1145      1145         655   \n",
       "\n",
       "   GarageArea  YearBuilt  OverallCond  LotArea  ...  MoSold  MasVnrArea  \\\n",
       "0         548       2003            5     8450  ...       2       196.0   \n",
       "1         460       1976            8     9600  ...       5         0.0   \n",
       "2         608       2001            5    11250  ...       9       162.0   \n",
       "3         642       1915            5     9550  ...       2         0.0   \n",
       "4         836       2000            5    14260  ...      12       350.0   \n",
       "\n",
       "   WoodDeckSF  TotRmsAbvGrd  MSSubClass  SaleCondition  Exterior1st  \\\n",
       "0           0             8          60              4           12   \n",
       "1         298             6          20              4            8   \n",
       "2           0             6          60              4           12   \n",
       "3           0             7          70              0           13   \n",
       "4         192             9          60              4           12   \n",
       "\n",
       "   KitchenQual  EnclosedPorch  KitchenAbvGr  \n",
       "0            2              0             1  \n",
       "1            3              0             1  \n",
       "2            2              0             1  \n",
       "3            2            272             1  \n",
       "4            2              0             1  \n",
       "\n",
       "[5 rows x 30 columns]"
      ]
     },
     "execution_count": 26,
     "metadata": {},
     "output_type": "execute_result"
    }
   ],
   "source": [
    "X.head()"
   ]
  },
  {
   "cell_type": "markdown",
   "metadata": {},
   "source": [
    "### Normalizing numerical features using zscoring"
   ]
  },
  {
   "cell_type": "code",
   "execution_count": 27,
   "metadata": {},
   "outputs": [
    {
     "data": {
      "text/html": [
       "<div>\n",
       "<style scoped>\n",
       "    .dataframe tbody tr th:only-of-type {\n",
       "        vertical-align: middle;\n",
       "    }\n",
       "\n",
       "    .dataframe tbody tr th {\n",
       "        vertical-align: top;\n",
       "    }\n",
       "\n",
       "    .dataframe thead th {\n",
       "        text-align: right;\n",
       "    }\n",
       "</style>\n",
       "<table border=\"1\" class=\"dataframe\">\n",
       "  <thead>\n",
       "    <tr style=\"text-align: right;\">\n",
       "      <th></th>\n",
       "      <th>OverallQual</th>\n",
       "      <th>GrLivArea</th>\n",
       "      <th>GarageCars</th>\n",
       "      <th>TotalBsmtSF</th>\n",
       "      <th>1stFlrSF</th>\n",
       "      <th>BsmtFinSF1</th>\n",
       "      <th>GarageArea</th>\n",
       "      <th>YearBuilt</th>\n",
       "      <th>OverallCond</th>\n",
       "      <th>LotArea</th>\n",
       "      <th>...</th>\n",
       "      <th>MoSold</th>\n",
       "      <th>MasVnrArea</th>\n",
       "      <th>WoodDeckSF</th>\n",
       "      <th>TotRmsAbvGrd</th>\n",
       "      <th>MSSubClass</th>\n",
       "      <th>SaleCondition</th>\n",
       "      <th>Exterior1st</th>\n",
       "      <th>KitchenQual</th>\n",
       "      <th>EnclosedPorch</th>\n",
       "      <th>KitchenAbvGr</th>\n",
       "    </tr>\n",
       "  </thead>\n",
       "  <tbody>\n",
       "    <tr>\n",
       "      <th>0</th>\n",
       "      <td>0.651256</td>\n",
       "      <td>0.370207</td>\n",
       "      <td>0.311618</td>\n",
       "      <td>-0.459145</td>\n",
       "      <td>-0.793162</td>\n",
       "      <td>0.575228</td>\n",
       "      <td>0.350880</td>\n",
       "      <td>1.050634</td>\n",
       "      <td>-0.517023</td>\n",
       "      <td>-0.207071</td>\n",
       "      <td>...</td>\n",
       "      <td>-1.598563</td>\n",
       "      <td>0.513928</td>\n",
       "      <td>-0.751918</td>\n",
       "      <td>0.911897</td>\n",
       "      <td>0.073350</td>\n",
       "      <td>0.208431</td>\n",
       "      <td>0.742838</td>\n",
       "      <td>-0.409229</td>\n",
       "      <td>-0.359202</td>\n",
       "      <td>-0.211381</td>\n",
       "    </tr>\n",
       "    <tr>\n",
       "      <th>1</th>\n",
       "      <td>-0.071812</td>\n",
       "      <td>-0.482347</td>\n",
       "      <td>0.311618</td>\n",
       "      <td>0.466305</td>\n",
       "      <td>0.257052</td>\n",
       "      <td>1.171591</td>\n",
       "      <td>-0.060710</td>\n",
       "      <td>0.156680</td>\n",
       "      <td>2.178881</td>\n",
       "      <td>-0.091855</td>\n",
       "      <td>...</td>\n",
       "      <td>-0.488943</td>\n",
       "      <td>-0.570555</td>\n",
       "      <td>1.625638</td>\n",
       "      <td>-0.318574</td>\n",
       "      <td>-0.872264</td>\n",
       "      <td>0.208431</td>\n",
       "      <td>-0.508077</td>\n",
       "      <td>0.795356</td>\n",
       "      <td>-0.359202</td>\n",
       "      <td>-0.211381</td>\n",
       "    </tr>\n",
       "    <tr>\n",
       "      <th>2</th>\n",
       "      <td>0.651256</td>\n",
       "      <td>0.514836</td>\n",
       "      <td>0.311618</td>\n",
       "      <td>-0.313261</td>\n",
       "      <td>-0.627611</td>\n",
       "      <td>0.092875</td>\n",
       "      <td>0.631510</td>\n",
       "      <td>0.984415</td>\n",
       "      <td>-0.517023</td>\n",
       "      <td>0.073455</td>\n",
       "      <td>...</td>\n",
       "      <td>0.990552</td>\n",
       "      <td>0.325803</td>\n",
       "      <td>-0.751918</td>\n",
       "      <td>-0.318574</td>\n",
       "      <td>0.073350</td>\n",
       "      <td>0.208431</td>\n",
       "      <td>0.742838</td>\n",
       "      <td>-0.409229</td>\n",
       "      <td>-0.359202</td>\n",
       "      <td>-0.211381</td>\n",
       "    </tr>\n",
       "    <tr>\n",
       "      <th>3</th>\n",
       "      <td>0.651256</td>\n",
       "      <td>0.383528</td>\n",
       "      <td>1.649742</td>\n",
       "      <td>-0.687089</td>\n",
       "      <td>-0.521555</td>\n",
       "      <td>-0.499103</td>\n",
       "      <td>0.790533</td>\n",
       "      <td>-1.862993</td>\n",
       "      <td>-0.517023</td>\n",
       "      <td>-0.096864</td>\n",
       "      <td>...</td>\n",
       "      <td>-1.598563</td>\n",
       "      <td>-0.570555</td>\n",
       "      <td>-0.751918</td>\n",
       "      <td>0.296662</td>\n",
       "      <td>0.309753</td>\n",
       "      <td>-3.425110</td>\n",
       "      <td>1.055567</td>\n",
       "      <td>-0.409229</td>\n",
       "      <td>4.091122</td>\n",
       "      <td>-0.211381</td>\n",
       "    </tr>\n",
       "    <tr>\n",
       "      <th>4</th>\n",
       "      <td>1.374324</td>\n",
       "      <td>1.298881</td>\n",
       "      <td>1.649742</td>\n",
       "      <td>0.199611</td>\n",
       "      <td>-0.045596</td>\n",
       "      <td>0.463410</td>\n",
       "      <td>1.697903</td>\n",
       "      <td>0.951306</td>\n",
       "      <td>-0.517023</td>\n",
       "      <td>0.375020</td>\n",
       "      <td>...</td>\n",
       "      <td>2.100173</td>\n",
       "      <td>1.366021</td>\n",
       "      <td>0.779930</td>\n",
       "      <td>1.527133</td>\n",
       "      <td>0.073350</td>\n",
       "      <td>0.208431</td>\n",
       "      <td>0.742838</td>\n",
       "      <td>-0.409229</td>\n",
       "      <td>-0.359202</td>\n",
       "      <td>-0.211381</td>\n",
       "    </tr>\n",
       "  </tbody>\n",
       "</table>\n",
       "<p>5 rows × 30 columns</p>\n",
       "</div>"
      ],
      "text/plain": [
       "   OverallQual  GrLivArea  GarageCars  TotalBsmtSF  1stFlrSF  BsmtFinSF1  \\\n",
       "0     0.651256   0.370207    0.311618    -0.459145 -0.793162    0.575228   \n",
       "1    -0.071812  -0.482347    0.311618     0.466305  0.257052    1.171591   \n",
       "2     0.651256   0.514836    0.311618    -0.313261 -0.627611    0.092875   \n",
       "3     0.651256   0.383528    1.649742    -0.687089 -0.521555   -0.499103   \n",
       "4     1.374324   1.298881    1.649742     0.199611 -0.045596    0.463410   \n",
       "\n",
       "   GarageArea  YearBuilt  OverallCond   LotArea  ...    MoSold  MasVnrArea  \\\n",
       "0    0.350880   1.050634    -0.517023 -0.207071  ... -1.598563    0.513928   \n",
       "1   -0.060710   0.156680     2.178881 -0.091855  ... -0.488943   -0.570555   \n",
       "2    0.631510   0.984415    -0.517023  0.073455  ...  0.990552    0.325803   \n",
       "3    0.790533  -1.862993    -0.517023 -0.096864  ... -1.598563   -0.570555   \n",
       "4    1.697903   0.951306    -0.517023  0.375020  ...  2.100173    1.366021   \n",
       "\n",
       "   WoodDeckSF  TotRmsAbvGrd  MSSubClass  SaleCondition  Exterior1st  \\\n",
       "0   -0.751918      0.911897    0.073350       0.208431     0.742838   \n",
       "1    1.625638     -0.318574   -0.872264       0.208431    -0.508077   \n",
       "2   -0.751918     -0.318574    0.073350       0.208431     0.742838   \n",
       "3   -0.751918      0.296662    0.309753      -3.425110     1.055567   \n",
       "4    0.779930      1.527133    0.073350       0.208431     0.742838   \n",
       "\n",
       "   KitchenQual  EnclosedPorch  KitchenAbvGr  \n",
       "0    -0.409229      -0.359202     -0.211381  \n",
       "1     0.795356      -0.359202     -0.211381  \n",
       "2    -0.409229      -0.359202     -0.211381  \n",
       "3    -0.409229       4.091122     -0.211381  \n",
       "4    -0.409229      -0.359202     -0.211381  \n",
       "\n",
       "[5 rows x 30 columns]"
      ]
     },
     "execution_count": 27,
     "metadata": {},
     "output_type": "execute_result"
    }
   ],
   "source": [
    "X = (X - X.mean())/X.std()\n",
    "X.head()"
   ]
  },
  {
   "cell_type": "markdown",
   "metadata": {},
   "source": [
    "### Outlier Detection"
   ]
  },
  {
   "cell_type": "code",
   "execution_count": 28,
   "metadata": {},
   "outputs": [
    {
     "data": {
      "image/png": "[encoded data removed]",
      "text/plain": [
       "<Figure size 864x504 with 3 Axes>"
      ]
     },
     "metadata": {
      "needs_background": "light"
     },
     "output_type": "display_data"
    }
   ],
   "source": [
    "fig = plt.figure(figsize=(12,7))\n",
    "for i in np.arange(3):\n",
    "    ax = fig.add_subplot(5,6,i+1)\n",
    "    sns.regplot(x=X.iloc[:,i], y=y)\n",
    "\n",
    "plt.tight_layout()\n",
    "plt.show()\n"
   ]
  },
  {
   "cell_type": "markdown",
   "metadata": {},
   "source": [
    "#### Removing few outliers"
   ]
  },
  {
   "cell_type": "code",
   "execution_count": 29,
   "metadata": {},
   "outputs": [
    {
     "data": {
      "text/plain": [
       "(1458, 31)"
      ]
     },
     "execution_count": 29,
     "metadata": {},
     "output_type": "execute_result"
    }
   ],
   "source": [
    "Xout = X\n",
    "Xout['SalePrice'] = y\n",
    "Xout = Xout.drop(Xout[(Xout['TotalBsmtSF']>5) & (Xout['SalePrice']<12.5)].index)\n",
    "Xout = Xout.drop(Xout[(Xout['GrLivArea']>5) & (Xout['SalePrice']<13)].index)\n",
    "Xout.shape"
   ]
  },
  {
   "cell_type": "code",
   "execution_count": 30,
   "metadata": {},
   "outputs": [],
   "source": [
    "y = Xout['SalePrice']\n",
    "X = Xout.drop(['SalePrice'], axis=1)"
   ]
  },
  {
   "cell_type": "markdown",
   "metadata": {},
   "source": [
    "### Splitting the data into train and test with 70:30 ratio"
   ]
  },
  {
   "cell_type": "code",
   "execution_count": 31,
   "metadata": {},
   "outputs": [],
   "source": [
    "X_train, X_test, y_train, y_test = train_test_split(X, y, test_size=0.3, random_state=123)"
   ]
  },
  {
   "cell_type": "code",
   "execution_count": 32,
   "metadata": {},
   "outputs": [
    {
     "data": {
      "text/plain": [
       "(1020, 30)"
      ]
     },
     "execution_count": 32,
     "metadata": {},
     "output_type": "execute_result"
    }
   ],
   "source": [
    "X_train.shape"
   ]
  },
  {
   "cell_type": "code",
   "execution_count": 33,
   "metadata": {},
   "outputs": [
    {
     "data": {
      "text/plain": [
       "(438, 30)"
      ]
     },
     "execution_count": 33,
     "metadata": {},
     "output_type": "execute_result"
    }
   ],
   "source": [
    "X_test.shape"
   ]
  },
  {
   "cell_type": "code",
   "execution_count": 34,
   "metadata": {},
   "outputs": [
    {
     "data": {
      "text/plain": [
       "(1020,)"
      ]
     },
     "execution_count": 34,
     "metadata": {},
     "output_type": "execute_result"
    }
   ],
   "source": [
    "y_train.shape"
   ]
  },
  {
   "cell_type": "code",
   "execution_count": 35,
   "metadata": {},
   "outputs": [
    {
     "data": {
      "text/plain": [
       "(438,)"
      ]
     },
     "execution_count": 35,
     "metadata": {},
     "output_type": "execute_result"
    }
   ],
   "source": [
    "y_test.shape"
   ]
  },
  {
   "cell_type": "code",
   "execution_count": 38,
   "metadata": {},
   "outputs": [
    {
     "data": {
      "text/html": [
       "<div>\n",
       "<style scoped>\n",
       "    .dataframe tbody tr th:only-of-type {\n",
       "        vertical-align: middle;\n",
       "    }\n",
       "\n",
       "    .dataframe tbody tr th {\n",
       "        vertical-align: top;\n",
       "    }\n",
       "\n",
       "    .dataframe thead th {\n",
       "        text-align: right;\n",
       "    }\n",
       "</style>\n",
       "<table border=\"1\" class=\"dataframe\">\n",
       "  <thead>\n",
       "    <tr style=\"text-align: right;\">\n",
       "      <th></th>\n",
       "      <th>OverallQual</th>\n",
       "      <th>GrLivArea</th>\n",
       "      <th>GarageCars</th>\n",
       "      <th>TotalBsmtSF</th>\n",
       "      <th>1stFlrSF</th>\n",
       "      <th>BsmtFinSF1</th>\n",
       "      <th>GarageArea</th>\n",
       "      <th>YearBuilt</th>\n",
       "      <th>OverallCond</th>\n",
       "      <th>LotArea</th>\n",
       "      <th>...</th>\n",
       "      <th>MoSold</th>\n",
       "      <th>MasVnrArea</th>\n",
       "      <th>WoodDeckSF</th>\n",
       "      <th>TotRmsAbvGrd</th>\n",
       "      <th>MSSubClass</th>\n",
       "      <th>SaleCondition</th>\n",
       "      <th>Exterior1st</th>\n",
       "      <th>KitchenQual</th>\n",
       "      <th>EnclosedPorch</th>\n",
       "      <th>KitchenAbvGr</th>\n",
       "    </tr>\n",
       "  </thead>\n",
       "  <tbody>\n",
       "    <tr>\n",
       "      <th>count</th>\n",
       "      <td>1020.000000</td>\n",
       "      <td>1020.000000</td>\n",
       "      <td>1020.000000</td>\n",
       "      <td>1020.000000</td>\n",
       "      <td>1020.000000</td>\n",
       "      <td>1020.000000</td>\n",
       "      <td>1020.000000</td>\n",
       "      <td>1020.000000</td>\n",
       "      <td>1020.000000</td>\n",
       "      <td>1020.000000</td>\n",
       "      <td>...</td>\n",
       "      <td>1020.000000</td>\n",
       "      <td>1020.000000</td>\n",
       "      <td>1020.000000</td>\n",
       "      <td>1020.000000</td>\n",
       "      <td>1020.000000</td>\n",
       "      <td>1020.000000</td>\n",
       "      <td>1020.000000</td>\n",
       "      <td>1020.000000</td>\n",
       "      <td>1020.000000</td>\n",
       "      <td>1020.000000</td>\n",
       "    </tr>\n",
       "    <tr>\n",
       "      <th>mean</th>\n",
       "      <td>-0.003049</td>\n",
       "      <td>-0.010774</td>\n",
       "      <td>-0.011106</td>\n",
       "      <td>-0.008537</td>\n",
       "      <td>-0.002572</td>\n",
       "      <td>0.025591</td>\n",
       "      <td>-0.016341</td>\n",
       "      <td>-0.003543</td>\n",
       "      <td>-0.020131</td>\n",
       "      <td>-0.003238</td>\n",
       "      <td>...</td>\n",
       "      <td>0.010749</td>\n",
       "      <td>-0.002991</td>\n",
       "      <td>0.014710</td>\n",
       "      <td>-0.006734</td>\n",
       "      <td>-0.011941</td>\n",
       "      <td>-0.021337</td>\n",
       "      <td>0.030000</td>\n",
       "      <td>0.015919</td>\n",
       "      <td>-0.013205</td>\n",
       "      <td>0.024442</td>\n",
       "    </tr>\n",
       "    <tr>\n",
       "      <th>std</th>\n",
       "      <td>1.011416</td>\n",
       "      <td>0.974854</td>\n",
       "      <td>0.996109</td>\n",
       "      <td>0.969260</td>\n",
       "      <td>0.969380</td>\n",
       "      <td>0.974053</td>\n",
       "      <td>0.974106</td>\n",
       "      <td>1.004780</td>\n",
       "      <td>1.006434</td>\n",
       "      <td>1.022167</td>\n",
       "      <td>...</td>\n",
       "      <td>1.011339</td>\n",
       "      <td>0.983350</td>\n",
       "      <td>1.017050</td>\n",
       "      <td>1.003125</td>\n",
       "      <td>1.002120</td>\n",
       "      <td>1.029461</td>\n",
       "      <td>0.996927</td>\n",
       "      <td>0.977446</td>\n",
       "      <td>0.993073</td>\n",
       "      <td>1.047146</td>\n",
       "    </tr>\n",
       "    <tr>\n",
       "      <th>min</th>\n",
       "      <td>-3.687150</td>\n",
       "      <td>-2.248350</td>\n",
       "      <td>-2.364630</td>\n",
       "      <td>-2.410341</td>\n",
       "      <td>-2.143438</td>\n",
       "      <td>-0.972685</td>\n",
       "      <td>-2.212205</td>\n",
       "      <td>-3.286697</td>\n",
       "      <td>-4.111561</td>\n",
       "      <td>-0.923413</td>\n",
       "      <td>...</td>\n",
       "      <td>-1.968437</td>\n",
       "      <td>-0.570555</td>\n",
       "      <td>-0.751918</td>\n",
       "      <td>-2.779517</td>\n",
       "      <td>-0.872264</td>\n",
       "      <td>-3.425110</td>\n",
       "      <td>-3.009907</td>\n",
       "      <td>-2.818399</td>\n",
       "      <td>-0.359202</td>\n",
       "      <td>-4.749859</td>\n",
       "    </tr>\n",
       "    <tr>\n",
       "      <th>25%</th>\n",
       "      <td>-0.794879</td>\n",
       "      <td>-0.724506</td>\n",
       "      <td>-1.026506</td>\n",
       "      <td>-0.598761</td>\n",
       "      <td>-0.733020</td>\n",
       "      <td>-0.972685</td>\n",
       "      <td>-0.640678</td>\n",
       "      <td>-0.571727</td>\n",
       "      <td>-0.517023</td>\n",
       "      <td>-0.296889</td>\n",
       "      <td>...</td>\n",
       "      <td>-0.488943</td>\n",
       "      <td>-0.570555</td>\n",
       "      <td>-0.751918</td>\n",
       "      <td>-0.933810</td>\n",
       "      <td>-0.872264</td>\n",
       "      <td>0.208431</td>\n",
       "      <td>-0.508077</td>\n",
       "      <td>-0.409229</td>\n",
       "      <td>-0.359202</td>\n",
       "      <td>-0.211381</td>\n",
       "    </tr>\n",
       "    <tr>\n",
       "      <th>50%</th>\n",
       "      <td>-0.071812</td>\n",
       "      <td>-0.113161</td>\n",
       "      <td>0.311618</td>\n",
       "      <td>-0.137745</td>\n",
       "      <td>-0.186573</td>\n",
       "      <td>-0.101162</td>\n",
       "      <td>0.032833</td>\n",
       "      <td>0.057352</td>\n",
       "      <td>-0.517023</td>\n",
       "      <td>-0.105030</td>\n",
       "      <td>...</td>\n",
       "      <td>-0.119069</td>\n",
       "      <td>-0.570555</td>\n",
       "      <td>-0.751918</td>\n",
       "      <td>-0.318574</td>\n",
       "      <td>-0.163054</td>\n",
       "      <td>0.208431</td>\n",
       "      <td>0.742838</td>\n",
       "      <td>0.795356</td>\n",
       "      <td>-0.359202</td>\n",
       "      <td>-0.211381</td>\n",
       "    </tr>\n",
       "    <tr>\n",
       "      <th>75%</th>\n",
       "      <td>0.651256</td>\n",
       "      <td>0.494379</td>\n",
       "      <td>0.311618</td>\n",
       "      <td>0.547795</td>\n",
       "      <td>0.591388</td>\n",
       "      <td>0.637166</td>\n",
       "      <td>0.481841</td>\n",
       "      <td>0.951306</td>\n",
       "      <td>0.381612</td>\n",
       "      <td>0.112879</td>\n",
       "      <td>...</td>\n",
       "      <td>0.620678</td>\n",
       "      <td>0.350702</td>\n",
       "      <td>0.588449</td>\n",
       "      <td>0.296662</td>\n",
       "      <td>0.309753</td>\n",
       "      <td>0.208431</td>\n",
       "      <td>0.742838</td>\n",
       "      <td>0.795356</td>\n",
       "      <td>-0.359202</td>\n",
       "      <td>-0.211381</td>\n",
       "    </tr>\n",
       "    <tr>\n",
       "      <th>max</th>\n",
       "      <td>2.820459</td>\n",
       "      <td>5.633962</td>\n",
       "      <td>2.987865</td>\n",
       "      <td>4.883849</td>\n",
       "      <td>5.342573</td>\n",
       "      <td>3.824529</td>\n",
       "      <td>3.493933</td>\n",
       "      <td>1.282400</td>\n",
       "      <td>3.077516</td>\n",
       "      <td>20.511245</td>\n",
       "      <td>...</td>\n",
       "      <td>2.100173</td>\n",
       "      <td>7.054021</td>\n",
       "      <td>6.085550</td>\n",
       "      <td>4.603312</td>\n",
       "      <td>3.146594</td>\n",
       "      <td>1.116816</td>\n",
       "      <td>1.368295</td>\n",
       "      <td>0.795356</td>\n",
       "      <td>8.672338</td>\n",
       "      <td>8.865574</td>\n",
       "    </tr>\n",
       "  </tbody>\n",
       "</table>\n",
       "<p>8 rows × 30 columns</p>\n",
       "</div>"
      ],
      "text/plain": [
       "       OverallQual    GrLivArea   GarageCars  TotalBsmtSF     1stFlrSF  \\\n",
       "count  1020.000000  1020.000000  1020.000000  1020.000000  1020.000000   \n",
       "mean     -0.003049    -0.010774    -0.011106    -0.008537    -0.002572   \n",
       "std       1.011416     0.974854     0.996109     0.969260     0.969380   \n",
       "min      -3.687150    -2.248350    -2.364630    -2.410341    -2.143438   \n",
       "25%      -0.794879    -0.724506    -1.026506    -0.598761    -0.733020   \n",
       "50%      -0.071812    -0.113161     0.311618    -0.137745    -0.186573   \n",
       "75%       0.651256     0.494379     0.311618     0.547795     0.591388   \n",
       "max       2.820459     5.633962     2.987865     4.883849     5.342573   \n",
       "\n",
       "        BsmtFinSF1   GarageArea    YearBuilt  OverallCond      LotArea  ...  \\\n",
       "count  1020.000000  1020.000000  1020.000000  1020.000000  1020.000000  ...   \n",
       "mean      0.025591    -0.016341    -0.003543    -0.020131    -0.003238  ...   \n",
       "std       0.974053     0.974106     1.004780     1.006434     1.022167  ...   \n",
       "min      -0.972685    -2.212205    -3.286697    -4.111561    -0.923413  ...   \n",
       "25%      -0.972685    -0.640678    -0.571727    -0.517023    -0.296889  ...   \n",
       "50%      -0.101162     0.032833     0.057352    -0.517023    -0.105030  ...   \n",
       "75%       0.637166     0.481841     0.951306     0.381612     0.112879  ...   \n",
       "max       3.824529     3.493933     1.282400     3.077516    20.511245  ...   \n",
       "\n",
       "            MoSold   MasVnrArea   WoodDeckSF  TotRmsAbvGrd   MSSubClass  \\\n",
       "count  1020.000000  1020.000000  1020.000000   1020.000000  1020.000000   \n",
       "mean      0.010749    -0.002991     0.014710     -0.006734    -0.011941   \n",
       "std       1.011339     0.983350     1.017050      1.003125     1.002120   \n",
       "min      -1.968437    -0.570555    -0.751918     -2.779517    -0.872264   \n",
       "25%      -0.488943    -0.570555    -0.751918     -0.933810    -0.872264   \n",
       "50%      -0.119069    -0.570555    -0.751918     -0.318574    -0.163054   \n",
       "75%       0.620678     0.350702     0.588449      0.296662     0.309753   \n",
       "max       2.100173     7.054021     6.085550      4.603312     3.146594   \n",
       "\n",
       "       SaleCondition  Exterior1st  KitchenQual  EnclosedPorch  KitchenAbvGr  \n",
       "count    1020.000000  1020.000000  1020.000000    1020.000000   1020.000000  \n",
       "mean       -0.021337     0.030000     0.015919      -0.013205      0.024442  \n",
       "std         1.029461     0.996927     0.977446       0.993073      1.047146  \n",
       "min        -3.425110    -3.009907    -2.818399      -0.359202     -4.749859  \n",
       "25%         0.208431    -0.508077    -0.409229      -0.359202     -0.211381  \n",
       "50%         0.208431     0.742838     0.795356      -0.359202     -0.211381  \n",
       "75%         0.208431     0.742838     0.795356      -0.359202     -0.211381  \n",
       "max         1.116816     1.368295     0.795356       8.672338      8.865574  \n",
       "\n",
       "[8 rows x 30 columns]"
      ]
     },
     "execution_count": 38,
     "metadata": {},
     "output_type": "execute_result"
    }
   ],
   "source": [
    "X_train.describe()"
   ]
  },
  {
   "cell_type": "code",
   "execution_count": 39,
   "metadata": {},
   "outputs": [
    {
     "data": {
      "text/plain": [
       "count    1020.000000\n",
       "mean       12.023015\n",
       "std         0.406774\n",
       "min        10.460242\n",
       "25%        11.767083\n",
       "50%        11.995352\n",
       "75%        12.273731\n",
       "max        13.534473\n",
       "Name: SalePrice, dtype: float64"
      ]
     },
     "execution_count": 39,
     "metadata": {},
     "output_type": "execute_result"
    }
   ],
   "source": [
    "y_train.describe()"
   ]
  },
  {
   "cell_type": "code",
   "execution_count": 40,
   "metadata": {},
   "outputs": [
    {
     "data": {
      "text/html": [
       "<div>\n",
       "<style scoped>\n",
       "    .dataframe tbody tr th:only-of-type {\n",
       "        vertical-align: middle;\n",
       "    }\n",
       "\n",
       "    .dataframe tbody tr th {\n",
       "        vertical-align: top;\n",
       "    }\n",
       "\n",
       "    .dataframe thead th {\n",
       "        text-align: right;\n",
       "    }\n",
       "</style>\n",
       "<table border=\"1\" class=\"dataframe\">\n",
       "  <thead>\n",
       "    <tr style=\"text-align: right;\">\n",
       "      <th></th>\n",
       "      <th>OverallQual</th>\n",
       "      <th>GrLivArea</th>\n",
       "      <th>GarageCars</th>\n",
       "      <th>TotalBsmtSF</th>\n",
       "      <th>1stFlrSF</th>\n",
       "      <th>BsmtFinSF1</th>\n",
       "      <th>GarageArea</th>\n",
       "      <th>YearBuilt</th>\n",
       "      <th>OverallCond</th>\n",
       "      <th>LotArea</th>\n",
       "      <th>...</th>\n",
       "      <th>MoSold</th>\n",
       "      <th>MasVnrArea</th>\n",
       "      <th>WoodDeckSF</th>\n",
       "      <th>TotRmsAbvGrd</th>\n",
       "      <th>MSSubClass</th>\n",
       "      <th>SaleCondition</th>\n",
       "      <th>Exterior1st</th>\n",
       "      <th>KitchenQual</th>\n",
       "      <th>EnclosedPorch</th>\n",
       "      <th>KitchenAbvGr</th>\n",
       "    </tr>\n",
       "  </thead>\n",
       "  <tbody>\n",
       "    <tr>\n",
       "      <th>count</th>\n",
       "      <td>438.000000</td>\n",
       "      <td>438.000000</td>\n",
       "      <td>438.000000</td>\n",
       "      <td>438.000000</td>\n",
       "      <td>438.000000</td>\n",
       "      <td>438.000000</td>\n",
       "      <td>438.000000</td>\n",
       "      <td>438.000000</td>\n",
       "      <td>438.000000</td>\n",
       "      <td>438.000000</td>\n",
       "      <td>...</td>\n",
       "      <td>438.000000</td>\n",
       "      <td>438.000000</td>\n",
       "      <td>438.000000</td>\n",
       "      <td>438.000000</td>\n",
       "      <td>438.000000</td>\n",
       "      <td>438.000000</td>\n",
       "      <td>438.000000</td>\n",
       "      <td>438.000000</td>\n",
       "      <td>438.000000</td>\n",
       "      <td>438.000000</td>\n",
       "    </tr>\n",
       "    <tr>\n",
       "      <th>mean</th>\n",
       "      <td>-0.005778</td>\n",
       "      <td>-0.006570</td>\n",
       "      <td>0.021386</td>\n",
       "      <td>-0.017242</td>\n",
       "      <td>-0.026520</td>\n",
       "      <td>-0.094719</td>\n",
       "      <td>0.023575</td>\n",
       "      <td>0.002774</td>\n",
       "      <td>0.049240</td>\n",
       "      <td>-0.011432</td>\n",
       "      <td>...</td>\n",
       "      <td>-0.023645</td>\n",
       "      <td>-0.010110</td>\n",
       "      <td>-0.038509</td>\n",
       "      <td>0.001686</td>\n",
       "      <td>0.027472</td>\n",
       "      <td>0.044590</td>\n",
       "      <td>-0.067544</td>\n",
       "      <td>-0.024202</td>\n",
       "      <td>0.032391</td>\n",
       "      <td>-0.055954</td>\n",
       "    </tr>\n",
       "    <tr>\n",
       "      <th>std</th>\n",
       "      <td>0.957527</td>\n",
       "      <td>0.947866</td>\n",
       "      <td>1.008851</td>\n",
       "      <td>0.890257</td>\n",
       "      <td>0.946720</td>\n",
       "      <td>0.884309</td>\n",
       "      <td>1.035237</td>\n",
       "      <td>0.988885</td>\n",
       "      <td>0.985983</td>\n",
       "      <td>0.903696</td>\n",
       "      <td>...</td>\n",
       "      <td>0.969409</td>\n",
       "      <td>1.009801</td>\n",
       "      <td>0.959534</td>\n",
       "      <td>0.974026</td>\n",
       "      <td>0.997926</td>\n",
       "      <td>0.926651</td>\n",
       "      <td>1.004634</td>\n",
       "      <td>1.036017</td>\n",
       "      <td>1.018336</td>\n",
       "      <td>0.881518</td>\n",
       "    </tr>\n",
       "    <tr>\n",
       "      <th>min</th>\n",
       "      <td>-2.241014</td>\n",
       "      <td>-1.565165</td>\n",
       "      <td>-2.364630</td>\n",
       "      <td>-2.410341</td>\n",
       "      <td>-2.045142</td>\n",
       "      <td>-0.972685</td>\n",
       "      <td>-2.212205</td>\n",
       "      <td>-3.021822</td>\n",
       "      <td>-2.314292</td>\n",
       "      <td>-0.900069</td>\n",
       "      <td>...</td>\n",
       "      <td>-1.968437</td>\n",
       "      <td>-0.570555</td>\n",
       "      <td>-0.751918</td>\n",
       "      <td>-2.164281</td>\n",
       "      <td>-0.872264</td>\n",
       "      <td>-3.425110</td>\n",
       "      <td>-3.009907</td>\n",
       "      <td>-2.818399</td>\n",
       "      <td>-0.359202</td>\n",
       "      <td>-0.211381</td>\n",
       "    </tr>\n",
       "    <tr>\n",
       "      <th>25%</th>\n",
       "      <td>-0.794879</td>\n",
       "      <td>-0.768275</td>\n",
       "      <td>-1.026506</td>\n",
       "      <td>-0.595911</td>\n",
       "      <td>-0.720733</td>\n",
       "      <td>-0.972685</td>\n",
       "      <td>-0.703820</td>\n",
       "      <td>-0.596559</td>\n",
       "      <td>-0.517023</td>\n",
       "      <td>-0.298116</td>\n",
       "      <td>...</td>\n",
       "      <td>-0.858816</td>\n",
       "      <td>-0.570555</td>\n",
       "      <td>-0.751918</td>\n",
       "      <td>-0.933810</td>\n",
       "      <td>-0.872264</td>\n",
       "      <td>0.208431</td>\n",
       "      <td>-1.133535</td>\n",
       "      <td>-0.409229</td>\n",
       "      <td>-0.359202</td>\n",
       "      <td>-0.211381</td>\n",
       "    </tr>\n",
       "    <tr>\n",
       "      <th>50%</th>\n",
       "      <td>-0.071812</td>\n",
       "      <td>-0.069391</td>\n",
       "      <td>0.311618</td>\n",
       "      <td>-0.208407</td>\n",
       "      <td>-0.234427</td>\n",
       "      <td>-0.228327</td>\n",
       "      <td>0.023479</td>\n",
       "      <td>0.024242</td>\n",
       "      <td>-0.517023</td>\n",
       "      <td>-0.102775</td>\n",
       "      <td>...</td>\n",
       "      <td>-0.119069</td>\n",
       "      <td>-0.570555</td>\n",
       "      <td>-0.751918</td>\n",
       "      <td>-0.318574</td>\n",
       "      <td>-0.163054</td>\n",
       "      <td>0.208431</td>\n",
       "      <td>0.273745</td>\n",
       "      <td>0.795356</td>\n",
       "      <td>-0.359202</td>\n",
       "      <td>-0.211381</td>\n",
       "    </tr>\n",
       "    <tr>\n",
       "      <th>75%</th>\n",
       "      <td>0.651256</td>\n",
       "      <td>0.508651</td>\n",
       "      <td>0.311618</td>\n",
       "      <td>0.534118</td>\n",
       "      <td>0.569401</td>\n",
       "      <td>0.478757</td>\n",
       "      <td>0.481841</td>\n",
       "      <td>0.951306</td>\n",
       "      <td>0.381612</td>\n",
       "      <td>0.097425</td>\n",
       "      <td>...</td>\n",
       "      <td>0.620678</td>\n",
       "      <td>0.311971</td>\n",
       "      <td>0.550552</td>\n",
       "      <td>0.296662</td>\n",
       "      <td>0.309753</td>\n",
       "      <td>0.208431</td>\n",
       "      <td>0.742838</td>\n",
       "      <td>0.795356</td>\n",
       "      <td>-0.359202</td>\n",
       "      <td>-0.211381</td>\n",
       "    </tr>\n",
       "    <tr>\n",
       "      <th>max</th>\n",
       "      <td>2.820459</td>\n",
       "      <td>3.982140</td>\n",
       "      <td>2.987865</td>\n",
       "      <td>4.897526</td>\n",
       "      <td>4.488951</td>\n",
       "      <td>3.201856</td>\n",
       "      <td>4.289051</td>\n",
       "      <td>1.249290</td>\n",
       "      <td>3.077516</td>\n",
       "      <td>14.876188</td>\n",
       "      <td>...</td>\n",
       "      <td>2.100173</td>\n",
       "      <td>8.282363</td>\n",
       "      <td>4.577637</td>\n",
       "      <td>3.372840</td>\n",
       "      <td>3.146594</td>\n",
       "      <td>1.116816</td>\n",
       "      <td>1.368295</td>\n",
       "      <td>0.795356</td>\n",
       "      <td>4.565605</td>\n",
       "      <td>8.865574</td>\n",
       "    </tr>\n",
       "  </tbody>\n",
       "</table>\n",
       "<p>8 rows × 30 columns</p>\n",
       "</div>"
      ],
      "text/plain": [
       "       OverallQual   GrLivArea  GarageCars  TotalBsmtSF    1stFlrSF  \\\n",
       "count   438.000000  438.000000  438.000000   438.000000  438.000000   \n",
       "mean     -0.005778   -0.006570    0.021386    -0.017242   -0.026520   \n",
       "std       0.957527    0.947866    1.008851     0.890257    0.946720   \n",
       "min      -2.241014   -1.565165   -2.364630    -2.410341   -2.045142   \n",
       "25%      -0.794879   -0.768275   -1.026506    -0.595911   -0.720733   \n",
       "50%      -0.071812   -0.069391    0.311618    -0.208407   -0.234427   \n",
       "75%       0.651256    0.508651    0.311618     0.534118    0.569401   \n",
       "max       2.820459    3.982140    2.987865     4.897526    4.488951   \n",
       "\n",
       "       BsmtFinSF1  GarageArea   YearBuilt  OverallCond     LotArea  ...  \\\n",
       "count  438.000000  438.000000  438.000000   438.000000  438.000000  ...   \n",
       "mean    -0.094719    0.023575    0.002774     0.049240   -0.011432  ...   \n",
       "std      0.884309    1.035237    0.988885     0.985983    0.903696  ...   \n",
       "min     -0.972685   -2.212205   -3.021822    -2.314292   -0.900069  ...   \n",
       "25%     -0.972685   -0.703820   -0.596559    -0.517023   -0.298116  ...   \n",
       "50%     -0.228327    0.023479    0.024242    -0.517023   -0.102775  ...   \n",
       "75%      0.478757    0.481841    0.951306     0.381612    0.097425  ...   \n",
       "max      3.201856    4.289051    1.249290     3.077516   14.876188  ...   \n",
       "\n",
       "           MoSold  MasVnrArea  WoodDeckSF  TotRmsAbvGrd  MSSubClass  \\\n",
       "count  438.000000  438.000000  438.000000    438.000000  438.000000   \n",
       "mean    -0.023645   -0.010110   -0.038509      0.001686    0.027472   \n",
       "std      0.969409    1.009801    0.959534      0.974026    0.997926   \n",
       "min     -1.968437   -0.570555   -0.751918     -2.164281   -0.872264   \n",
       "25%     -0.858816   -0.570555   -0.751918     -0.933810   -0.872264   \n",
       "50%     -0.119069   -0.570555   -0.751918     -0.318574   -0.163054   \n",
       "75%      0.620678    0.311971    0.550552      0.296662    0.309753   \n",
       "max      2.100173    8.282363    4.577637      3.372840    3.146594   \n",
       "\n",
       "       SaleCondition  Exterior1st  KitchenQual  EnclosedPorch  KitchenAbvGr  \n",
       "count     438.000000   438.000000   438.000000     438.000000    438.000000  \n",
       "mean        0.044590    -0.067544    -0.024202       0.032391     -0.055954  \n",
       "std         0.926651     1.004634     1.036017       1.018336      0.881518  \n",
       "min        -3.425110    -3.009907    -2.818399      -0.359202     -0.211381  \n",
       "25%         0.208431    -1.133535    -0.409229      -0.359202     -0.211381  \n",
       "50%         0.208431     0.273745     0.795356      -0.359202     -0.211381  \n",
       "75%         0.208431     0.742838     0.795356      -0.359202     -0.211381  \n",
       "max         1.116816     1.368295     0.795356       4.565605      8.865574  \n",
       "\n",
       "[8 rows x 30 columns]"
      ]
     },
     "execution_count": 40,
     "metadata": {},
     "output_type": "execute_result"
    }
   ],
   "source": [
    "X_test.describe()"
   ]
  },
  {
   "cell_type": "code",
   "execution_count": 41,
   "metadata": {},
   "outputs": [
    {
     "data": {
      "text/plain": [
       "count    438.000000\n",
       "mean      12.026323\n",
       "std        0.383219\n",
       "min       10.542706\n",
       "25%       11.799417\n",
       "50%       12.013701\n",
       "75%       12.277811\n",
       "max       13.275828\n",
       "Name: SalePrice, dtype: float64"
      ]
     },
     "execution_count": 41,
     "metadata": {},
     "output_type": "execute_result"
    }
   ],
   "source": [
    "y_test.describe()"
   ]
  },
  {
   "cell_type": "code",
   "execution_count": null,
   "metadata": {},
   "outputs": [],
   "source": []
  }
 ],
 "metadata": {
  "kernelspec": {
   "display_name": "Python 3",
   "language": "python",
   "name": "python3"
  },
  "language_info": {
   "codemirror_mode": {
    "name": "ipython",
    "version": 3
   },
   "file_extension": ".py",
   "mimetype": "text/x-python",
   "name": "python",
   "nbconvert_exporter": "python",
   "pygments_lexer": "ipython3",
   "version": "3.7.6"
  }
 },
 "nbformat": 4,
 "nbformat_minor": 2
}
