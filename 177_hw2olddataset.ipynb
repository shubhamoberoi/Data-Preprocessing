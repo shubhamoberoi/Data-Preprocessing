{
 "cells": [
  {
   "cell_type": "code",
   "execution_count": 1,
   "metadata": {},
   "outputs": [
    {
     "ename": "ImportError",
     "evalue": "No module named 'surprise'",
     "output_type": "error",
     "traceback": [
      "\u001b[0;31m---------------------------------------------------------------------------\u001b[0m",
      "\u001b[0;31mImportError\u001b[0m                               Traceback (most recent call last)",
      "\u001b[0;32m<ipython-input-1-cb0f3757a665>\u001b[0m in \u001b[0;36m<module>\u001b[0;34m()\u001b[0m\n\u001b[0;32m----> 1\u001b[0;31m \u001b[0;32mimport\u001b[0m \u001b[0msurprise\u001b[0m\u001b[0;34m\u001b[0m\u001b[0m\n\u001b[0m\u001b[1;32m      2\u001b[0m \u001b[0;32mimport\u001b[0m \u001b[0mpandas\u001b[0m \u001b[0;32mas\u001b[0m \u001b[0mpd\u001b[0m\u001b[0;34m\u001b[0m\u001b[0m\n\u001b[1;32m      3\u001b[0m \u001b[0;32mimport\u001b[0m \u001b[0mnumpy\u001b[0m \u001b[0;32mas\u001b[0m \u001b[0mnp\u001b[0m\u001b[0;34m\u001b[0m\u001b[0m\n\u001b[1;32m      4\u001b[0m \u001b[0;32mimport\u001b[0m \u001b[0mmatplotlib\u001b[0m\u001b[0;34m.\u001b[0m\u001b[0mpyplot\u001b[0m \u001b[0;32mas\u001b[0m \u001b[0mplt\u001b[0m\u001b[0;34m\u001b[0m\u001b[0m\n\u001b[1;32m      5\u001b[0m \u001b[0;32mimport\u001b[0m \u001b[0mseaborn\u001b[0m \u001b[0;32mas\u001b[0m \u001b[0msns\u001b[0m\u001b[0;34m\u001b[0m\u001b[0m\n",
      "\u001b[0;31mImportError\u001b[0m: No module named 'surprise'"
     ]
    }
   ],
   "source": [
    "import pandas as pd\n",
    "import numpy as np\n",
    "import matplotlib.pyplot as plt\n",
    "import seaborn as sns\n",
    "from sklearn import preprocessing\n",
    "from sklearn.ensemble import RandomForestRegressor\n",
    "from sklearn.model_selection import train_test_split\n",
    "from sklearn.linear_model import LinearRegression\n",
    "from sklearn.metrics import mean_squared_error,r2_score\n",
    "from math import sqrt\n",
    "from sklearn import datasets, linear_model"
   ]
  },
  {
   "cell_type": "markdown",
   "metadata": {},
   "source": [
    "#### Reading data"
   ]
  },
  {
   "cell_type": "code",
   "execution_count": 58,
   "metadata": {},
   "outputs": [],
   "source": [
    "df = pd.read_csv('house_price_data.csv')"
   ]
  },
  {
   "cell_type": "code",
   "execution_count": 59,
   "metadata": {},
   "outputs": [
    {
     "data": {
      "text/html": [
       "<div>\n",
       "<table border=\"1\" class=\"dataframe\">\n",
       "  <thead>\n",
       "    <tr style=\"text-align: right;\">\n",
       "      <th></th>\n",
       "      <th>Id</th>\n",
       "      <th>MSSubClass</th>\n",
       "      <th>MSZoning</th>\n",
       "      <th>LotFrontage</th>\n",
       "      <th>LotArea</th>\n",
       "      <th>Street</th>\n",
       "      <th>Alley</th>\n",
       "      <th>LotShape</th>\n",
       "      <th>LandContour</th>\n",
       "      <th>Utilities</th>\n",
       "      <th>...</th>\n",
       "      <th>PoolArea</th>\n",
       "      <th>PoolQC</th>\n",
       "      <th>Fence</th>\n",
       "      <th>MiscFeature</th>\n",
       "      <th>MiscVal</th>\n",
       "      <th>MoSold</th>\n",
       "      <th>YrSold</th>\n",
       "      <th>SaleType</th>\n",
       "      <th>SaleCondition</th>\n",
       "      <th>SalePrice</th>\n",
       "    </tr>\n",
       "  </thead>\n",
       "  <tbody>\n",
       "    <tr>\n",
       "      <th>0</th>\n",
       "      <td>1</td>\n",
       "      <td>60</td>\n",
       "      <td>RL</td>\n",
       "      <td>65.0</td>\n",
       "      <td>8450</td>\n",
       "      <td>Pave</td>\n",
       "      <td>NaN</td>\n",
       "      <td>Reg</td>\n",
       "      <td>Lvl</td>\n",
       "      <td>AllPub</td>\n",
       "      <td>...</td>\n",
       "      <td>0</td>\n",
       "      <td>NaN</td>\n",
       "      <td>NaN</td>\n",
       "      <td>NaN</td>\n",
       "      <td>0</td>\n",
       "      <td>2</td>\n",
       "      <td>2008</td>\n",
       "      <td>WD</td>\n",
       "      <td>Normal</td>\n",
       "      <td>208500</td>\n",
       "    </tr>\n",
       "    <tr>\n",
       "      <th>1</th>\n",
       "      <td>2</td>\n",
       "      <td>20</td>\n",
       "      <td>RL</td>\n",
       "      <td>80.0</td>\n",
       "      <td>9600</td>\n",
       "      <td>Pave</td>\n",
       "      <td>NaN</td>\n",
       "      <td>Reg</td>\n",
       "      <td>Lvl</td>\n",
       "      <td>AllPub</td>\n",
       "      <td>...</td>\n",
       "      <td>0</td>\n",
       "      <td>NaN</td>\n",
       "      <td>NaN</td>\n",
       "      <td>NaN</td>\n",
       "      <td>0</td>\n",
       "      <td>5</td>\n",
       "      <td>2007</td>\n",
       "      <td>WD</td>\n",
       "      <td>Normal</td>\n",
       "      <td>181500</td>\n",
       "    </tr>\n",
       "    <tr>\n",
       "      <th>2</th>\n",
       "      <td>3</td>\n",
       "      <td>60</td>\n",
       "      <td>RL</td>\n",
       "      <td>68.0</td>\n",
       "      <td>11250</td>\n",
       "      <td>Pave</td>\n",
       "      <td>NaN</td>\n",
       "      <td>IR1</td>\n",
       "      <td>Lvl</td>\n",
       "      <td>AllPub</td>\n",
       "      <td>...</td>\n",
       "      <td>0</td>\n",
       "      <td>NaN</td>\n",
       "      <td>NaN</td>\n",
       "      <td>NaN</td>\n",
       "      <td>0</td>\n",
       "      <td>9</td>\n",
       "      <td>2008</td>\n",
       "      <td>WD</td>\n",
       "      <td>Normal</td>\n",
       "      <td>223500</td>\n",
       "    </tr>\n",
       "    <tr>\n",
       "      <th>3</th>\n",
       "      <td>4</td>\n",
       "      <td>70</td>\n",
       "      <td>RL</td>\n",
       "      <td>60.0</td>\n",
       "      <td>9550</td>\n",
       "      <td>Pave</td>\n",
       "      <td>NaN</td>\n",
       "      <td>IR1</td>\n",
       "      <td>Lvl</td>\n",
       "      <td>AllPub</td>\n",
       "      <td>...</td>\n",
       "      <td>0</td>\n",
       "      <td>NaN</td>\n",
       "      <td>NaN</td>\n",
       "      <td>NaN</td>\n",
       "      <td>0</td>\n",
       "      <td>2</td>\n",
       "      <td>2006</td>\n",
       "      <td>WD</td>\n",
       "      <td>Abnorml</td>\n",
       "      <td>140000</td>\n",
       "    </tr>\n",
       "    <tr>\n",
       "      <th>4</th>\n",
       "      <td>5</td>\n",
       "      <td>60</td>\n",
       "      <td>RL</td>\n",
       "      <td>84.0</td>\n",
       "      <td>14260</td>\n",
       "      <td>Pave</td>\n",
       "      <td>NaN</td>\n",
       "      <td>IR1</td>\n",
       "      <td>Lvl</td>\n",
       "      <td>AllPub</td>\n",
       "      <td>...</td>\n",
       "      <td>0</td>\n",
       "      <td>NaN</td>\n",
       "      <td>NaN</td>\n",
       "      <td>NaN</td>\n",
       "      <td>0</td>\n",
       "      <td>12</td>\n",
       "      <td>2008</td>\n",
       "      <td>WD</td>\n",
       "      <td>Normal</td>\n",
       "      <td>250000</td>\n",
       "    </tr>\n",
       "    <tr>\n",
       "      <th>5</th>\n",
       "      <td>6</td>\n",
       "      <td>50</td>\n",
       "      <td>RL</td>\n",
       "      <td>85.0</td>\n",
       "      <td>14115</td>\n",
       "      <td>Pave</td>\n",
       "      <td>NaN</td>\n",
       "      <td>IR1</td>\n",
       "      <td>Lvl</td>\n",
       "      <td>AllPub</td>\n",
       "      <td>...</td>\n",
       "      <td>0</td>\n",
       "      <td>NaN</td>\n",
       "      <td>MnPrv</td>\n",
       "      <td>Shed</td>\n",
       "      <td>700</td>\n",
       "      <td>10</td>\n",
       "      <td>2009</td>\n",
       "      <td>WD</td>\n",
       "      <td>Normal</td>\n",
       "      <td>143000</td>\n",
       "    </tr>\n",
       "    <tr>\n",
       "      <th>6</th>\n",
       "      <td>7</td>\n",
       "      <td>20</td>\n",
       "      <td>RL</td>\n",
       "      <td>75.0</td>\n",
       "      <td>10084</td>\n",
       "      <td>Pave</td>\n",
       "      <td>NaN</td>\n",
       "      <td>Reg</td>\n",
       "      <td>Lvl</td>\n",
       "      <td>AllPub</td>\n",
       "      <td>...</td>\n",
       "      <td>0</td>\n",
       "      <td>NaN</td>\n",
       "      <td>NaN</td>\n",
       "      <td>NaN</td>\n",
       "      <td>0</td>\n",
       "      <td>8</td>\n",
       "      <td>2007</td>\n",
       "      <td>WD</td>\n",
       "      <td>Normal</td>\n",
       "      <td>307000</td>\n",
       "    </tr>\n",
       "    <tr>\n",
       "      <th>7</th>\n",
       "      <td>8</td>\n",
       "      <td>60</td>\n",
       "      <td>RL</td>\n",
       "      <td>NaN</td>\n",
       "      <td>10382</td>\n",
       "      <td>Pave</td>\n",
       "      <td>NaN</td>\n",
       "      <td>IR1</td>\n",
       "      <td>Lvl</td>\n",
       "      <td>AllPub</td>\n",
       "      <td>...</td>\n",
       "      <td>0</td>\n",
       "      <td>NaN</td>\n",
       "      <td>NaN</td>\n",
       "      <td>Shed</td>\n",
       "      <td>350</td>\n",
       "      <td>11</td>\n",
       "      <td>2009</td>\n",
       "      <td>WD</td>\n",
       "      <td>Normal</td>\n",
       "      <td>200000</td>\n",
       "    </tr>\n",
       "    <tr>\n",
       "      <th>8</th>\n",
       "      <td>9</td>\n",
       "      <td>50</td>\n",
       "      <td>RM</td>\n",
       "      <td>51.0</td>\n",
       "      <td>6120</td>\n",
       "      <td>Pave</td>\n",
       "      <td>NaN</td>\n",
       "      <td>Reg</td>\n",
       "      <td>Lvl</td>\n",
       "      <td>AllPub</td>\n",
       "      <td>...</td>\n",
       "      <td>0</td>\n",
       "      <td>NaN</td>\n",
       "      <td>NaN</td>\n",
       "      <td>NaN</td>\n",
       "      <td>0</td>\n",
       "      <td>4</td>\n",
       "      <td>2008</td>\n",
       "      <td>WD</td>\n",
       "      <td>Abnorml</td>\n",
       "      <td>129900</td>\n",
       "    </tr>\n",
       "    <tr>\n",
       "      <th>9</th>\n",
       "      <td>10</td>\n",
       "      <td>190</td>\n",
       "      <td>RL</td>\n",
       "      <td>50.0</td>\n",
       "      <td>7420</td>\n",
       "      <td>Pave</td>\n",
       "      <td>NaN</td>\n",
       "      <td>Reg</td>\n",
       "      <td>Lvl</td>\n",
       "      <td>AllPub</td>\n",
       "      <td>...</td>\n",
       "      <td>0</td>\n",
       "      <td>NaN</td>\n",
       "      <td>NaN</td>\n",
       "      <td>NaN</td>\n",
       "      <td>0</td>\n",
       "      <td>1</td>\n",
       "      <td>2008</td>\n",
       "      <td>WD</td>\n",
       "      <td>Normal</td>\n",
       "      <td>118000</td>\n",
       "    </tr>\n",
       "  </tbody>\n",
       "</table>\n",
       "<p>10 rows × 81 columns</p>\n",
       "</div>"
      ],
      "text/plain": [
       "   Id  MSSubClass MSZoning  LotFrontage  LotArea Street Alley LotShape  \\\n",
       "0   1          60       RL         65.0     8450   Pave   NaN      Reg   \n",
       "1   2          20       RL         80.0     9600   Pave   NaN      Reg   \n",
       "2   3          60       RL         68.0    11250   Pave   NaN      IR1   \n",
       "3   4          70       RL         60.0     9550   Pave   NaN      IR1   \n",
       "4   5          60       RL         84.0    14260   Pave   NaN      IR1   \n",
       "5   6          50       RL         85.0    14115   Pave   NaN      IR1   \n",
       "6   7          20       RL         75.0    10084   Pave   NaN      Reg   \n",
       "7   8          60       RL          NaN    10382   Pave   NaN      IR1   \n",
       "8   9          50       RM         51.0     6120   Pave   NaN      Reg   \n",
       "9  10         190       RL         50.0     7420   Pave   NaN      Reg   \n",
       "\n",
       "  LandContour Utilities    ...     PoolArea PoolQC  Fence MiscFeature MiscVal  \\\n",
       "0         Lvl    AllPub    ...            0    NaN    NaN         NaN       0   \n",
       "1         Lvl    AllPub    ...            0    NaN    NaN         NaN       0   \n",
       "2         Lvl    AllPub    ...            0    NaN    NaN         NaN       0   \n",
       "3         Lvl    AllPub    ...            0    NaN    NaN         NaN       0   \n",
       "4         Lvl    AllPub    ...            0    NaN    NaN         NaN       0   \n",
       "5         Lvl    AllPub    ...            0    NaN  MnPrv        Shed     700   \n",
       "6         Lvl    AllPub    ...            0    NaN    NaN         NaN       0   \n",
       "7         Lvl    AllPub    ...            0    NaN    NaN        Shed     350   \n",
       "8         Lvl    AllPub    ...            0    NaN    NaN         NaN       0   \n",
       "9         Lvl    AllPub    ...            0    NaN    NaN         NaN       0   \n",
       "\n",
       "  MoSold YrSold  SaleType  SaleCondition  SalePrice  \n",
       "0      2   2008        WD         Normal     208500  \n",
       "1      5   2007        WD         Normal     181500  \n",
       "2      9   2008        WD         Normal     223500  \n",
       "3      2   2006        WD        Abnorml     140000  \n",
       "4     12   2008        WD         Normal     250000  \n",
       "5     10   2009        WD         Normal     143000  \n",
       "6      8   2007        WD         Normal     307000  \n",
       "7     11   2009        WD         Normal     200000  \n",
       "8      4   2008        WD        Abnorml     129900  \n",
       "9      1   2008        WD         Normal     118000  \n",
       "\n",
       "[10 rows x 81 columns]"
      ]
     },
     "execution_count": 59,
     "metadata": {},
     "output_type": "execute_result"
    }
   ],
   "source": [
    "df.head(10)"
   ]
  },
  {
   "cell_type": "code",
   "execution_count": 60,
   "metadata": {},
   "outputs": [
    {
     "data": {
      "text/plain": [
       "(1460, 81)"
      ]
     },
     "execution_count": 60,
     "metadata": {},
     "output_type": "execute_result"
    }
   ],
   "source": [
    "df.shape"
   ]
  },
  {
   "cell_type": "code",
   "execution_count": 61,
   "metadata": {},
   "outputs": [
    {
     "name": "stdout",
     "output_type": "stream",
     "text": [
      "Number of duplicate rows = 0\n"
     ]
    }
   ],
   "source": [
    "dups = df.duplicated()\n",
    "print('Number of duplicate rows = %d' % (dups.sum()))\n"
   ]
  },
  {
   "cell_type": "code",
   "execution_count": 1,
   "metadata": {},
   "outputs": [
    {
     "name": "stdout",
     "output_type": "stream",
     "text": [
      "Collecting surprise\n",
      "  Downloading https://files.pythonhosted.org/packages/61/de/e5cba8682201fcf9c3719a6fdda95693468ed061945493dea2dd37c5618b/surprise-0.1-py2.py3-none-any.whl\n",
      "Collecting scikit-surprise (from surprise)\n",
      "\u001b[?25l  Downloading https://files.pythonhosted.org/packages/f5/da/b5700d96495fb4f092be497f02492768a3d96a3f4fa2ae7dea46d4081cfa/scikit-surprise-1.1.0.tar.gz (6.4MB)\n",
      "\u001b[K     |████████████████████████████████| 6.5MB 29kB/s  eta 0:00:01     |█████████▉                      | 2.0MB 3.4MB/s eta 0:00:02\n",
      "\u001b[?25hCollecting joblib>=0.11 (from scikit-surprise->surprise)\n",
      "\u001b[?25l  Downloading https://files.pythonhosted.org/packages/8f/42/155696f85f344c066e17af287359c9786b436b1bf86029bb3411283274f3/joblib-0.14.0-py2.py3-none-any.whl (294kB)\n",
      "\u001b[K     |████████████████████████████████| 296kB 10.3MB/s eta 0:00:01\n",
      "\u001b[?25hRequirement already satisfied: numpy>=1.11.2 in /home/nbuser/anaconda3_420/lib/python3.5/site-packages (from scikit-surprise->surprise) (1.17.0)\n",
      "Requirement already satisfied: scipy>=1.0.0 in /home/nbuser/anaconda3_420/lib/python3.5/site-packages (from scikit-surprise->surprise) (1.1.0)\n",
      "Requirement already satisfied: six>=1.10.0 in /home/nbuser/anaconda3_420/lib/python3.5/site-packages (from scikit-surprise->surprise) (1.11.0)\n",
      "Building wheels for collected packages: scikit-surprise\n",
      "  Building wheel for scikit-surprise (setup.py) ... \u001b[?25ldone\n",
      "\u001b[?25h  Created wheel for scikit-surprise: filename=scikit_surprise-1.1.0-cp35-cp35m-linux_x86_64.whl size=1658186 sha256=5cc0ae8ddf1f5c5656a00626f439d767bbc9d8d41c14b36f3f584cc3cab9805c\n",
      "  Stored in directory: /home/nbuser/.cache/pip/wheels/cc/fa/8c/16c93fccce688ae1bde7d979ff102f7bee980d9cfeb8641bcf\n",
      "Successfully built scikit-surprise\n",
      "Installing collected packages: joblib, scikit-surprise, surprise\n",
      "Successfully installed joblib-0.14.0 scikit-surprise-1.1.0 surprise-0.1\n",
      "\u001b[33mWARNING: You are using pip version 19.2.2, however version 19.3.1 is available.\n",
      "You should consider upgrading via the 'pip install --upgrade pip' command.\u001b[0m\n"
     ]
    }
   ],
   "source": [
    "!pip install surprise"
   ]
  },
  {
   "cell_type": "code",
   "execution_count": 62,
   "metadata": {},
   "outputs": [
    {
     "data": {
      "text/plain": [
       "(1460,)"
      ]
     },
     "execution_count": 62,
     "metadata": {},
     "output_type": "execute_result"
    }
   ],
   "source": [
    "## Target feature\n",
    "y = df['SalePrice']\n",
    "x= np.array(df['OverallQual']).reshape(-1,1)\n",
    "model=LinearRegression()\n",
    "model.fit(x,y)\n",
    "\n",
    "y.shape"
   ]
  },
  {
   "cell_type": "markdown",
   "metadata": {},
   "source": [
    "#### Dropping target feature and nonessential feature"
   ]
  },
  {
   "cell_type": "code",
   "execution_count": 63,
   "metadata": {},
   "outputs": [],
   "source": [
    "df.drop(['SalePrice', 'Id'], axis=1,inplace=True)"
   ]
  },
  {
   "cell_type": "markdown",
   "metadata": {},
   "source": [
    "#### Checking columns with null values"
   ]
  },
  {
   "cell_type": "code",
   "execution_count": 64,
   "metadata": {},
   "outputs": [
    {
     "name": "stdout",
     "output_type": "stream",
     "text": [
      "LotFrontage: 259\n",
      "Alley: 1369\n",
      "MasVnrType: 8\n",
      "MasVnrArea: 8\n",
      "BsmtQual: 37\n",
      "BsmtCond: 37\n",
      "BsmtExposure: 38\n",
      "BsmtFinType1: 37\n",
      "BsmtFinType2: 38\n",
      "Electrical: 1\n",
      "FireplaceQu: 690\n",
      "GarageType: 81\n",
      "GarageYrBlt: 81\n",
      "GarageFinish: 81\n",
      "GarageQual: 81\n",
      "GarageCond: 81\n",
      "PoolQC: 1453\n",
      "Fence: 1179\n",
      "MiscFeature: 1406\n"
     ]
    }
   ],
   "source": [
    "df_null = []\n",
    "for col in df.columns:\n",
    "    n = df[col].isnull().sum()\n",
    "    if(n>0):\n",
    "        df_null.append(col)\n",
    "        print('%s: %d' % (col,n))"
   ]
  },
  {
   "cell_type": "code",
   "execution_count": 65,
   "metadata": {},
   "outputs": [
    {
     "data": {
      "text/plain": [
       "LotFrontage     float64\n",
       "Alley            object\n",
       "MasVnrType       object\n",
       "MasVnrArea      float64\n",
       "BsmtQual         object\n",
       "BsmtCond         object\n",
       "BsmtExposure     object\n",
       "BsmtFinType1     object\n",
       "BsmtFinType2     object\n",
       "Electrical       object\n",
       "FireplaceQu      object\n",
       "GarageType       object\n",
       "GarageYrBlt     float64\n",
       "GarageFinish     object\n",
       "GarageQual       object\n",
       "GarageCond       object\n",
       "PoolQC           object\n",
       "Fence            object\n",
       "MiscFeature      object\n",
       "dtype: object"
      ]
     },
     "execution_count": 65,
     "metadata": {},
     "output_type": "execute_result"
    }
   ],
   "source": [
    "df2 = df[df_null]\n",
    "df2.dtypes"
   ]
  },
  {
   "cell_type": "markdown",
   "metadata": {},
   "source": [
    "#### Dropping columns with object type having null values"
   ]
  },
  {
   "cell_type": "code",
   "execution_count": 66,
   "metadata": {},
   "outputs": [
    {
     "name": "stdout",
     "output_type": "stream",
     "text": [
      "['Alley', 'MasVnrType', 'BsmtQual', 'BsmtCond', 'BsmtExposure', 'BsmtFinType1', 'BsmtFinType2', 'Electrical', 'FireplaceQu', 'GarageType', 'GarageFinish', 'GarageQual', 'GarageCond', 'PoolQC', 'Fence', 'MiscFeature']\n"
     ]
    }
   ],
   "source": [
    "cols_to_drop = []\n",
    "cols_na = []\n",
    "for col in df2.columns:\n",
    "    if df[col].dtype == 'O':\n",
    "        cols_to_drop.append(col)\n",
    "    else:\n",
    "        cols_na.append(col)\n",
    "print(cols_to_drop);"
   ]
  },
  {
   "cell_type": "code",
   "execution_count": 67,
   "metadata": {},
   "outputs": [
    {
     "data": {
      "text/plain": [
       "(1460, 63)"
      ]
     },
     "execution_count": 67,
     "metadata": {},
     "output_type": "execute_result"
    }
   ],
   "source": [
    "df.drop(cols_to_drop, axis=1, inplace=True)\n",
    "df.shape"
   ]
  },
  {
   "cell_type": "code",
   "execution_count": 68,
   "metadata": {},
   "outputs": [
    {
     "name": "stdout",
     "output_type": "stream",
     "text": [
      "LotFrontage: 259\n",
      "MasVnrArea: 8\n",
      "GarageYrBlt: 81\n"
     ]
    }
   ],
   "source": [
    "for col in df.columns:\n",
    "    n = df[col].isnull().sum()\n",
    "    if(n>0):\n",
    "#         df_null.append(col)\n",
    "        print('%s: %d' % (col,df[col].isnull().sum()))"
   ]
  },
  {
   "cell_type": "code",
   "execution_count": 69,
   "metadata": {},
   "outputs": [
    {
     "name": "stdout",
     "output_type": "stream",
     "text": [
      "Before replacing missing values:\n",
      "40     84.0\n",
      "41    115.0\n",
      "42      NaN\n",
      "43      NaN\n",
      "44     70.0\n",
      "Name: LotFrontage, dtype: float64\n",
      "Before replacing missing values:\n",
      "40    101.0\n",
      "41      0.0\n",
      "42      0.0\n",
      "43      0.0\n",
      "44      0.0\n",
      "Name: MasVnrArea, dtype: float64\n",
      "Before replacing missing values:\n",
      "40    1965.0\n",
      "41    1959.0\n",
      "42    1983.0\n",
      "43    1977.0\n",
      "44    1959.0\n",
      "Name: GarageYrBlt, dtype: float64\n"
     ]
    }
   ],
   "source": [
    "for col in df.columns:\n",
    "    n = df[col].isnull().sum()\n",
    "    if(n>0):\n",
    "        print('Before replacing missing values:')\n",
    "        print(df[col].iloc[40:45])\n",
    "#         df = df.fillna(df.median())\n",
    "#         print('\\nAfter replacing missing values:')\n",
    "#         print(df[col].iloc[40:45])"
   ]
  },
  {
   "cell_type": "markdown",
   "metadata": {},
   "source": [
    "#### Replacing null columns with median values"
   ]
  },
  {
   "cell_type": "code",
   "execution_count": 70,
   "metadata": {},
   "outputs": [
    {
     "name": "stdout",
     "output_type": "stream",
     "text": [
      "\n",
      "After replacing missing values:\n",
      "40     84.0\n",
      "41    115.0\n",
      "42     69.0\n",
      "43     69.0\n",
      "44     70.0\n",
      "Name: LotFrontage, dtype: float64\n",
      "\n",
      "After replacing missing values:\n",
      "40    101.0\n",
      "41      0.0\n",
      "42      0.0\n",
      "43      0.0\n",
      "44      0.0\n",
      "Name: MasVnrArea, dtype: float64\n",
      "\n",
      "After replacing missing values:\n",
      "40    1965.0\n",
      "41    1959.0\n",
      "42    1983.0\n",
      "43    1977.0\n",
      "44    1959.0\n",
      "Name: GarageYrBlt, dtype: float64\n"
     ]
    }
   ],
   "source": [
    "df = df.fillna(df.median())\n",
    "for col in cols_na:\n",
    "    print('\\nAfter replacing missing values:')\n",
    "    print(df[col].iloc[40:45])"
   ]
  },
  {
   "cell_type": "code",
   "execution_count": 71,
   "metadata": {},
   "outputs": [
    {
     "data": {
      "text/plain": [
       "(1460, 63)"
      ]
     },
     "execution_count": 71,
     "metadata": {},
     "output_type": "execute_result"
    }
   ],
   "source": [
    "df.shape"
   ]
  },
  {
   "cell_type": "code",
   "execution_count": 72,
   "metadata": {},
   "outputs": [
    {
     "data": {
      "text/plain": [
       "MSSubClass         int64\n",
       "MSZoning          object\n",
       "LotFrontage      float64\n",
       "LotArea            int64\n",
       "Street            object\n",
       "LotShape          object\n",
       "LandContour       object\n",
       "Utilities         object\n",
       "LotConfig         object\n",
       "LandSlope         object\n",
       "Neighborhood      object\n",
       "Condition1        object\n",
       "Condition2        object\n",
       "BldgType          object\n",
       "HouseStyle        object\n",
       "OverallQual        int64\n",
       "OverallCond        int64\n",
       "YearBuilt          int64\n",
       "YearRemodAdd       int64\n",
       "RoofStyle         object\n",
       "RoofMatl          object\n",
       "Exterior1st       object\n",
       "Exterior2nd       object\n",
       "MasVnrArea       float64\n",
       "ExterQual         object\n",
       "ExterCond         object\n",
       "Foundation        object\n",
       "BsmtFinSF1         int64\n",
       "BsmtFinSF2         int64\n",
       "BsmtUnfSF          int64\n",
       "                  ...   \n",
       "CentralAir        object\n",
       "1stFlrSF           int64\n",
       "2ndFlrSF           int64\n",
       "LowQualFinSF       int64\n",
       "GrLivArea          int64\n",
       "BsmtFullBath       int64\n",
       "BsmtHalfBath       int64\n",
       "FullBath           int64\n",
       "HalfBath           int64\n",
       "BedroomAbvGr       int64\n",
       "KitchenAbvGr       int64\n",
       "KitchenQual       object\n",
       "TotRmsAbvGrd       int64\n",
       "Functional        object\n",
       "Fireplaces         int64\n",
       "GarageYrBlt      float64\n",
       "GarageCars         int64\n",
       "GarageArea         int64\n",
       "PavedDrive        object\n",
       "WoodDeckSF         int64\n",
       "OpenPorchSF        int64\n",
       "EnclosedPorch      int64\n",
       "3SsnPorch          int64\n",
       "ScreenPorch        int64\n",
       "PoolArea           int64\n",
       "MiscVal            int64\n",
       "MoSold             int64\n",
       "YrSold             int64\n",
       "SaleType          object\n",
       "SaleCondition     object\n",
       "dtype: object"
      ]
     },
     "execution_count": 72,
     "metadata": {},
     "output_type": "execute_result"
    }
   ],
   "source": [
    "df.dtypes"
   ]
  },
  {
   "cell_type": "markdown",
   "metadata": {},
   "source": [
    "### Converting strings to categorical values using Label Encoder"
   ]
  },
  {
   "cell_type": "code",
   "execution_count": 73,
   "metadata": {},
   "outputs": [
    {
     "name": "stdout",
     "output_type": "stream",
     "text": [
      "['WD' 'New' 'COD' 'ConLD' 'ConLI' 'CWD' 'ConLw' 'Con' 'Oth']\n"
     ]
    }
   ],
   "source": [
    "print(df['SaleType'].unique())"
   ]
  },
  {
   "cell_type": "code",
   "execution_count": 74,
   "metadata": {},
   "outputs": [
    {
     "name": "stdout",
     "output_type": "stream",
     "text": [
      "[8 6 0 3 4 1 5 2 7]\n"
     ]
    }
   ],
   "source": [
    "for i in range(df.shape[1]):\n",
    "    if df.iloc[:,i].dtypes == object:\n",
    "        le = preprocessing.LabelEncoder()\n",
    "        le.fit(list(df.iloc[:,i].values))\n",
    "        df.iloc[:,i] = le.transform(list(df.iloc[:,i].values))\n",
    "\n",
    "print(df['SaleType'].unique())"
   ]
  },
  {
   "cell_type": "markdown",
   "metadata": {},
   "source": [
    "### Normality check for the target"
   ]
  },
  {
   "cell_type": "code",
   "execution_count": 75,
   "metadata": {},
   "outputs": [
    {
     "name": "stderr",
     "output_type": "stream",
     "text": [
      "/home/nbuser/anaconda3_420/lib/python3.5/site-packages/scipy/stats/stats.py:1713: FutureWarning: Using a non-tuple sequence for multidimensional indexing is deprecated; use `arr[tuple(seq)]` instead of `arr[seq]`. In the future this will be interpreted as an array index, `arr[np.array(seq)]`, which will result either in an error or a different result.\n",
      "  return np.add.reduce(sorted[indexer] * weights, axis=axis) / sumval\n"
     ]
    },
    {
     "data": {
      "image/png": "[encoded data removed]",
      "text/plain": [
       "<matplotlib.figure.Figure at 0x7ff36aad3a20>"
      ]
     },
     "metadata": {},
     "output_type": "display_data"
    }
   ],
   "source": [
    "ax = sns.distplot(y)\n",
    "plt.show()"
   ]
  },
  {
   "cell_type": "markdown",
   "metadata": {},
   "source": [
    "### log-transform to make normally distributed"
   ]
  },
  {
   "cell_type": "code",
   "execution_count": 76,
   "metadata": {},
   "outputs": [
    {
     "name": "stderr",
     "output_type": "stream",
     "text": [
      "/home/nbuser/anaconda3_420/lib/python3.5/site-packages/scipy/stats/stats.py:1713: FutureWarning: Using a non-tuple sequence for multidimensional indexing is deprecated; use `arr[tuple(seq)]` instead of `arr[seq]`. In the future this will be interpreted as an array index, `arr[np.array(seq)]`, which will result either in an error or a different result.\n",
      "  return np.add.reduce(sorted[indexer] * weights, axis=axis) / sumval\n"
     ]
    },
    {
     "data": {
      "image/png": "[encoded data removed]",
      "text/plain": [
       "<matplotlib.figure.Figure at 0x7ff36aee5c18>"
      ]
     },
     "metadata": {},
     "output_type": "display_data"
    }
   ],
   "source": [
    "y = np.log(y)\n",
    "ax = sns.distplot(y)\n",
    "plt.show()"
   ]
  },
  {
   "cell_type": "code",
   "execution_count": 77,
   "metadata": {},
   "outputs": [
    {
     "data": {
      "text/plain": [
       "0    12.247694\n",
       "1    12.109011\n",
       "2    12.317167\n",
       "3    11.849398\n",
       "4    12.429216\n",
       "5    11.870600\n",
       "6    12.634603\n",
       "7    12.206073\n",
       "8    11.774520\n",
       "9    11.678440\n",
       "Name: SalePrice, dtype: float64"
      ]
     },
     "execution_count": 77,
     "metadata": {},
     "output_type": "execute_result"
    }
   ],
   "source": [
    "y[0:10]"
   ]
  },
  {
   "cell_type": "markdown",
   "metadata": {},
   "source": [
    "### Random Forest for feature extraction"
   ]
  },
  {
   "cell_type": "code",
   "execution_count": 78,
   "metadata": {},
   "outputs": [
    {
     "name": "stdout",
     "output_type": "stream",
     "text": [
      "Training done using Random Forest\n"
     ]
    },
    {
     "data": {
      "image/png": "[encoded data removed]",
      "text/plain": [
       "<matplotlib.figure.Figure at 0x7ff36b700a20>"
      ]
     },
     "metadata": {},
     "output_type": "display_data"
    }
   ],
   "source": [
    "rf = RandomForestRegressor(n_estimators=80, max_features='auto')\n",
    "rf.fit(df, y)\n",
    "print('Training done using Random Forest')\n",
    "\n",
    "ranking = np.argsort(-rf.feature_importances_)\n",
    "f, ax = plt.subplots(figsize=(11, 9))\n",
    "sns.barplot(x=rf.feature_importances_[ranking], y=df.columns.values[ranking], orient='h')\n",
    "ax.set_xlabel(\"feature importance\")\n",
    "plt.tight_layout()\n",
    "plt.show()\n"
   ]
  },
  {
   "cell_type": "markdown",
   "metadata": {},
   "source": [
    "#### Selecting top 30 features "
   ]
  },
  {
   "cell_type": "code",
   "execution_count": 79,
   "metadata": {},
   "outputs": [],
   "source": [
    "X = df.iloc[:,ranking[:30]]"
   ]
  },
  {
   "cell_type": "code",
   "execution_count": 80,
   "metadata": {},
   "outputs": [
    {
     "data": {
      "text/plain": [
       "(1460, 30)"
      ]
     },
     "execution_count": 80,
     "metadata": {},
     "output_type": "execute_result"
    }
   ],
   "source": [
    "X.shape"
   ]
  },
  {
   "cell_type": "code",
   "execution_count": 81,
   "metadata": {},
   "outputs": [
    {
     "data": {
      "text/html": [
       "<div>\n",
       "<table border=\"1\" class=\"dataframe\">\n",
       "  <thead>\n",
       "    <tr style=\"text-align: right;\">\n",
       "      <th></th>\n",
       "      <th>OverallQual</th>\n",
       "      <th>GrLivArea</th>\n",
       "      <th>TotalBsmtSF</th>\n",
       "      <th>GarageCars</th>\n",
       "      <th>GarageArea</th>\n",
       "      <th>1stFlrSF</th>\n",
       "      <th>BsmtFinSF1</th>\n",
       "      <th>YearBuilt</th>\n",
       "      <th>LotArea</th>\n",
       "      <th>OverallCond</th>\n",
       "      <th>...</th>\n",
       "      <th>WoodDeckSF</th>\n",
       "      <th>MoSold</th>\n",
       "      <th>MasVnrArea</th>\n",
       "      <th>TotRmsAbvGrd</th>\n",
       "      <th>FullBath</th>\n",
       "      <th>MSSubClass</th>\n",
       "      <th>SaleCondition</th>\n",
       "      <th>EnclosedPorch</th>\n",
       "      <th>KitchenQual</th>\n",
       "      <th>ExterCond</th>\n",
       "    </tr>\n",
       "  </thead>\n",
       "  <tbody>\n",
       "    <tr>\n",
       "      <th>0</th>\n",
       "      <td>7</td>\n",
       "      <td>1710</td>\n",
       "      <td>856</td>\n",
       "      <td>2</td>\n",
       "      <td>548</td>\n",
       "      <td>856</td>\n",
       "      <td>706</td>\n",
       "      <td>2003</td>\n",
       "      <td>8450</td>\n",
       "      <td>5</td>\n",
       "      <td>...</td>\n",
       "      <td>0</td>\n",
       "      <td>2</td>\n",
       "      <td>196.0</td>\n",
       "      <td>8</td>\n",
       "      <td>2</td>\n",
       "      <td>60</td>\n",
       "      <td>4</td>\n",
       "      <td>0</td>\n",
       "      <td>2</td>\n",
       "      <td>4</td>\n",
       "    </tr>\n",
       "    <tr>\n",
       "      <th>1</th>\n",
       "      <td>6</td>\n",
       "      <td>1262</td>\n",
       "      <td>1262</td>\n",
       "      <td>2</td>\n",
       "      <td>460</td>\n",
       "      <td>1262</td>\n",
       "      <td>978</td>\n",
       "      <td>1976</td>\n",
       "      <td>9600</td>\n",
       "      <td>8</td>\n",
       "      <td>...</td>\n",
       "      <td>298</td>\n",
       "      <td>5</td>\n",
       "      <td>0.0</td>\n",
       "      <td>6</td>\n",
       "      <td>2</td>\n",
       "      <td>20</td>\n",
       "      <td>4</td>\n",
       "      <td>0</td>\n",
       "      <td>3</td>\n",
       "      <td>4</td>\n",
       "    </tr>\n",
       "    <tr>\n",
       "      <th>2</th>\n",
       "      <td>7</td>\n",
       "      <td>1786</td>\n",
       "      <td>920</td>\n",
       "      <td>2</td>\n",
       "      <td>608</td>\n",
       "      <td>920</td>\n",
       "      <td>486</td>\n",
       "      <td>2001</td>\n",
       "      <td>11250</td>\n",
       "      <td>5</td>\n",
       "      <td>...</td>\n",
       "      <td>0</td>\n",
       "      <td>9</td>\n",
       "      <td>162.0</td>\n",
       "      <td>6</td>\n",
       "      <td>2</td>\n",
       "      <td>60</td>\n",
       "      <td>4</td>\n",
       "      <td>0</td>\n",
       "      <td>2</td>\n",
       "      <td>4</td>\n",
       "    </tr>\n",
       "    <tr>\n",
       "      <th>3</th>\n",
       "      <td>7</td>\n",
       "      <td>1717</td>\n",
       "      <td>756</td>\n",
       "      <td>3</td>\n",
       "      <td>642</td>\n",
       "      <td>961</td>\n",
       "      <td>216</td>\n",
       "      <td>1915</td>\n",
       "      <td>9550</td>\n",
       "      <td>5</td>\n",
       "      <td>...</td>\n",
       "      <td>0</td>\n",
       "      <td>2</td>\n",
       "      <td>0.0</td>\n",
       "      <td>7</td>\n",
       "      <td>1</td>\n",
       "      <td>70</td>\n",
       "      <td>0</td>\n",
       "      <td>272</td>\n",
       "      <td>2</td>\n",
       "      <td>4</td>\n",
       "    </tr>\n",
       "    <tr>\n",
       "      <th>4</th>\n",
       "      <td>8</td>\n",
       "      <td>2198</td>\n",
       "      <td>1145</td>\n",
       "      <td>3</td>\n",
       "      <td>836</td>\n",
       "      <td>1145</td>\n",
       "      <td>655</td>\n",
       "      <td>2000</td>\n",
       "      <td>14260</td>\n",
       "      <td>5</td>\n",
       "      <td>...</td>\n",
       "      <td>192</td>\n",
       "      <td>12</td>\n",
       "      <td>350.0</td>\n",
       "      <td>9</td>\n",
       "      <td>2</td>\n",
       "      <td>60</td>\n",
       "      <td>4</td>\n",
       "      <td>0</td>\n",
       "      <td>2</td>\n",
       "      <td>4</td>\n",
       "    </tr>\n",
       "  </tbody>\n",
       "</table>\n",
       "<p>5 rows × 30 columns</p>\n",
       "</div>"
      ],
      "text/plain": [
       "   OverallQual  GrLivArea  TotalBsmtSF  GarageCars  GarageArea  1stFlrSF  \\\n",
       "0            7       1710          856           2         548       856   \n",
       "1            6       1262         1262           2         460      1262   \n",
       "2            7       1786          920           2         608       920   \n",
       "3            7       1717          756           3         642       961   \n",
       "4            8       2198         1145           3         836      1145   \n",
       "\n",
       "   BsmtFinSF1  YearBuilt  LotArea  OverallCond    ...      WoodDeckSF  MoSold  \\\n",
       "0         706       2003     8450            5    ...               0       2   \n",
       "1         978       1976     9600            8    ...             298       5   \n",
       "2         486       2001    11250            5    ...               0       9   \n",
       "3         216       1915     9550            5    ...               0       2   \n",
       "4         655       2000    14260            5    ...             192      12   \n",
       "\n",
       "   MasVnrArea  TotRmsAbvGrd  FullBath  MSSubClass  SaleCondition  \\\n",
       "0       196.0             8         2          60              4   \n",
       "1         0.0             6         2          20              4   \n",
       "2       162.0             6         2          60              4   \n",
       "3         0.0             7         1          70              0   \n",
       "4       350.0             9         2          60              4   \n",
       "\n",
       "   EnclosedPorch  KitchenQual  ExterCond  \n",
       "0              0            2          4  \n",
       "1              0            3          4  \n",
       "2              0            2          4  \n",
       "3            272            2          4  \n",
       "4              0            2          4  \n",
       "\n",
       "[5 rows x 30 columns]"
      ]
     },
     "execution_count": 81,
     "metadata": {},
     "output_type": "execute_result"
    }
   ],
   "source": [
    "X.head()"
   ]
  },
  {
   "cell_type": "markdown",
   "metadata": {},
   "source": [
    "### Normalizing numerical features using zscoring"
   ]
  },
  {
   "cell_type": "code",
   "execution_count": 82,
   "metadata": {},
   "outputs": [
    {
     "data": {
      "text/html": [
       "<div>\n",
       "<table border=\"1\" class=\"dataframe\">\n",
       "  <thead>\n",
       "    <tr style=\"text-align: right;\">\n",
       "      <th></th>\n",
       "      <th>OverallQual</th>\n",
       "      <th>GrLivArea</th>\n",
       "      <th>TotalBsmtSF</th>\n",
       "      <th>GarageCars</th>\n",
       "      <th>GarageArea</th>\n",
       "      <th>1stFlrSF</th>\n",
       "      <th>BsmtFinSF1</th>\n",
       "      <th>YearBuilt</th>\n",
       "      <th>LotArea</th>\n",
       "      <th>OverallCond</th>\n",
       "      <th>...</th>\n",
       "      <th>WoodDeckSF</th>\n",
       "      <th>MoSold</th>\n",
       "      <th>MasVnrArea</th>\n",
       "      <th>TotRmsAbvGrd</th>\n",
       "      <th>FullBath</th>\n",
       "      <th>MSSubClass</th>\n",
       "      <th>SaleCondition</th>\n",
       "      <th>EnclosedPorch</th>\n",
       "      <th>KitchenQual</th>\n",
       "      <th>ExterCond</th>\n",
       "    </tr>\n",
       "  </thead>\n",
       "  <tbody>\n",
       "    <tr>\n",
       "      <th>0</th>\n",
       "      <td>0.651256</td>\n",
       "      <td>0.370207</td>\n",
       "      <td>-0.459145</td>\n",
       "      <td>0.311618</td>\n",
       "      <td>0.350880</td>\n",
       "      <td>-0.793162</td>\n",
       "      <td>0.575228</td>\n",
       "      <td>1.050634</td>\n",
       "      <td>-0.207071</td>\n",
       "      <td>-0.517023</td>\n",
       "      <td>...</td>\n",
       "      <td>-0.751918</td>\n",
       "      <td>-1.598563</td>\n",
       "      <td>0.513928</td>\n",
       "      <td>0.911897</td>\n",
       "      <td>0.789470</td>\n",
       "      <td>0.073350</td>\n",
       "      <td>0.208431</td>\n",
       "      <td>-0.359202</td>\n",
       "      <td>-0.409229</td>\n",
       "      <td>0.364083</td>\n",
       "    </tr>\n",
       "    <tr>\n",
       "      <th>1</th>\n",
       "      <td>-0.071812</td>\n",
       "      <td>-0.482347</td>\n",
       "      <td>0.466305</td>\n",
       "      <td>0.311618</td>\n",
       "      <td>-0.060710</td>\n",
       "      <td>0.257052</td>\n",
       "      <td>1.171591</td>\n",
       "      <td>0.156680</td>\n",
       "      <td>-0.091855</td>\n",
       "      <td>2.178881</td>\n",
       "      <td>...</td>\n",
       "      <td>1.625638</td>\n",
       "      <td>-0.488943</td>\n",
       "      <td>-0.570555</td>\n",
       "      <td>-0.318574</td>\n",
       "      <td>0.789470</td>\n",
       "      <td>-0.872264</td>\n",
       "      <td>0.208431</td>\n",
       "      <td>-0.359202</td>\n",
       "      <td>0.795356</td>\n",
       "      <td>0.364083</td>\n",
       "    </tr>\n",
       "    <tr>\n",
       "      <th>2</th>\n",
       "      <td>0.651256</td>\n",
       "      <td>0.514836</td>\n",
       "      <td>-0.313261</td>\n",
       "      <td>0.311618</td>\n",
       "      <td>0.631510</td>\n",
       "      <td>-0.627611</td>\n",
       "      <td>0.092875</td>\n",
       "      <td>0.984415</td>\n",
       "      <td>0.073455</td>\n",
       "      <td>-0.517023</td>\n",
       "      <td>...</td>\n",
       "      <td>-0.751918</td>\n",
       "      <td>0.990552</td>\n",
       "      <td>0.325803</td>\n",
       "      <td>-0.318574</td>\n",
       "      <td>0.789470</td>\n",
       "      <td>0.073350</td>\n",
       "      <td>0.208431</td>\n",
       "      <td>-0.359202</td>\n",
       "      <td>-0.409229</td>\n",
       "      <td>0.364083</td>\n",
       "    </tr>\n",
       "    <tr>\n",
       "      <th>3</th>\n",
       "      <td>0.651256</td>\n",
       "      <td>0.383528</td>\n",
       "      <td>-0.687089</td>\n",
       "      <td>1.649742</td>\n",
       "      <td>0.790533</td>\n",
       "      <td>-0.521555</td>\n",
       "      <td>-0.499103</td>\n",
       "      <td>-1.862993</td>\n",
       "      <td>-0.096864</td>\n",
       "      <td>-0.517023</td>\n",
       "      <td>...</td>\n",
       "      <td>-0.751918</td>\n",
       "      <td>-1.598563</td>\n",
       "      <td>-0.570555</td>\n",
       "      <td>0.296662</td>\n",
       "      <td>-1.025689</td>\n",
       "      <td>0.309753</td>\n",
       "      <td>-3.425110</td>\n",
       "      <td>4.091122</td>\n",
       "      <td>-0.409229</td>\n",
       "      <td>0.364083</td>\n",
       "    </tr>\n",
       "    <tr>\n",
       "      <th>4</th>\n",
       "      <td>1.374324</td>\n",
       "      <td>1.298881</td>\n",
       "      <td>0.199611</td>\n",
       "      <td>1.649742</td>\n",
       "      <td>1.697903</td>\n",
       "      <td>-0.045596</td>\n",
       "      <td>0.463410</td>\n",
       "      <td>0.951306</td>\n",
       "      <td>0.375020</td>\n",
       "      <td>-0.517023</td>\n",
       "      <td>...</td>\n",
       "      <td>0.779930</td>\n",
       "      <td>2.100173</td>\n",
       "      <td>1.366021</td>\n",
       "      <td>1.527133</td>\n",
       "      <td>0.789470</td>\n",
       "      <td>0.073350</td>\n",
       "      <td>0.208431</td>\n",
       "      <td>-0.359202</td>\n",
       "      <td>-0.409229</td>\n",
       "      <td>0.364083</td>\n",
       "    </tr>\n",
       "  </tbody>\n",
       "</table>\n",
       "<p>5 rows × 30 columns</p>\n",
       "</div>"
      ],
      "text/plain": [
       "   OverallQual  GrLivArea  TotalBsmtSF  GarageCars  GarageArea  1stFlrSF  \\\n",
       "0     0.651256   0.370207    -0.459145    0.311618    0.350880 -0.793162   \n",
       "1    -0.071812  -0.482347     0.466305    0.311618   -0.060710  0.257052   \n",
       "2     0.651256   0.514836    -0.313261    0.311618    0.631510 -0.627611   \n",
       "3     0.651256   0.383528    -0.687089    1.649742    0.790533 -0.521555   \n",
       "4     1.374324   1.298881     0.199611    1.649742    1.697903 -0.045596   \n",
       "\n",
       "   BsmtFinSF1  YearBuilt   LotArea  OverallCond    ...      WoodDeckSF  \\\n",
       "0    0.575228   1.050634 -0.207071    -0.517023    ...       -0.751918   \n",
       "1    1.171591   0.156680 -0.091855     2.178881    ...        1.625638   \n",
       "2    0.092875   0.984415  0.073455    -0.517023    ...       -0.751918   \n",
       "3   -0.499103  -1.862993 -0.096864    -0.517023    ...       -0.751918   \n",
       "4    0.463410   0.951306  0.375020    -0.517023    ...        0.779930   \n",
       "\n",
       "     MoSold  MasVnrArea  TotRmsAbvGrd  FullBath  MSSubClass  SaleCondition  \\\n",
       "0 -1.598563    0.513928      0.911897  0.789470    0.073350       0.208431   \n",
       "1 -0.488943   -0.570555     -0.318574  0.789470   -0.872264       0.208431   \n",
       "2  0.990552    0.325803     -0.318574  0.789470    0.073350       0.208431   \n",
       "3 -1.598563   -0.570555      0.296662 -1.025689    0.309753      -3.425110   \n",
       "4  2.100173    1.366021      1.527133  0.789470    0.073350       0.208431   \n",
       "\n",
       "   EnclosedPorch  KitchenQual  ExterCond  \n",
       "0      -0.359202    -0.409229   0.364083  \n",
       "1      -0.359202     0.795356   0.364083  \n",
       "2      -0.359202    -0.409229   0.364083  \n",
       "3       4.091122    -0.409229   0.364083  \n",
       "4      -0.359202    -0.409229   0.364083  \n",
       "\n",
       "[5 rows x 30 columns]"
      ]
     },
     "execution_count": 82,
     "metadata": {},
     "output_type": "execute_result"
    }
   ],
   "source": [
    "X = (X - X.mean())/X.std()\n",
    "X.head()"
   ]
  },
  {
   "cell_type": "markdown",
   "metadata": {},
   "source": [
    "### Outlier Detection"
   ]
  },
  {
   "cell_type": "code",
   "execution_count": 83,
   "metadata": {},
   "outputs": [
    {
     "name": "stderr",
     "output_type": "stream",
     "text": [
      "/home/nbuser/anaconda3_420/lib/python3.5/site-packages/scipy/stats/stats.py:1713: FutureWarning: Using a non-tuple sequence for multidimensional indexing is deprecated; use `arr[tuple(seq)]` instead of `arr[seq]`. In the future this will be interpreted as an array index, `arr[np.array(seq)]`, which will result either in an error or a different result.\n",
      "  return np.add.reduce(sorted[indexer] * weights, axis=axis) / sumval\n"
     ]
    },
    {
     "data": {
      "image/png": "[encoded data removed]",
      "text/plain": [
       "<matplotlib.figure.Figure at 0x7ff36a3864a8>"
      ]
     },
     "metadata": {},
     "output_type": "display_data"
    }
   ],
   "source": [
    "fig = plt.figure(figsize=(12,7))\n",
    "for i in np.arange(3):\n",
    "    ax = fig.add_subplot(5,6,i+1)\n",
    "    sns.regplot(x=X.iloc[:,i], y=y)\n",
    "\n",
    "plt.tight_layout()\n",
    "plt.show()\n"
   ]
  },
  {
   "cell_type": "markdown",
   "metadata": {},
   "source": [
    "#### Removing few outliers"
   ]
  },
  {
   "cell_type": "code",
   "execution_count": 84,
   "metadata": {},
   "outputs": [
    {
     "data": {
      "text/plain": [
       "(1458, 31)"
      ]
     },
     "execution_count": 84,
     "metadata": {},
     "output_type": "execute_result"
    }
   ],
   "source": [
    "Xout = X\n",
    "Xout['SalePrice'] = y\n",
    "Xout = Xout.drop(Xout[(Xout['TotalBsmtSF']>5) & (Xout['SalePrice']<12.5)].index)\n",
    "Xout = Xout.drop(Xout[(Xout['GrLivArea']>5) & (Xout['SalePrice']<13)].index)\n",
    "Xout.shape"
   ]
  },
  {
   "cell_type": "code",
   "execution_count": 85,
   "metadata": {},
   "outputs": [],
   "source": [
    "y = Xout['SalePrice']\n",
    "X = Xout.drop(['SalePrice'], axis=1)"
   ]
  },
  {
   "cell_type": "markdown",
   "metadata": {},
   "source": [
    "### Splitting the data into train and test with 70:30 ratio"
   ]
  },
  {
   "cell_type": "code",
   "execution_count": 86,
   "metadata": {},
   "outputs": [],
   "source": [
    "X_train, X_test, y_train, y_test = train_test_split(X, y, test_size=0.3, random_state=123)"
   ]
  },
  {
   "cell_type": "code",
   "execution_count": 99,
   "metadata": {},
   "outputs": [
    {
     "name": "stdout",
     "output_type": "stream",
     "text": [
      "250     11.245046\n",
      "228     11.736069\n",
      "40      11.982929\n",
      "428     12.182804\n",
      "278     12.936752\n",
      "701     11.849398\n",
      "336     12.841130\n",
      "95      12.128111\n",
      "681     11.979385\n",
      "779     11.813030\n",
      "30      10.596635\n",
      "695     12.078239\n",
      "954     11.755872\n",
      "1456    12.254863\n",
      "595     12.672946\n",
      "600     12.524526\n",
      "935     11.288531\n",
      "417     12.384219\n",
      "317     12.506177\n",
      "1080    11.884489\n",
      "624     12.014609\n",
      "588     11.870600\n",
      "7       12.206073\n",
      "949     12.193494\n",
      "693     11.594321\n",
      "1126    12.066811\n",
      "903     12.388394\n",
      "697     11.723996\n",
      "708     12.098153\n",
      "1138    12.185870\n",
      "          ...    \n",
      "597     12.176649\n",
      "1457    12.493130\n",
      "39      11.314475\n",
      "340     12.220469\n",
      "2       12.317167\n",
      "451     12.542545\n",
      "1093    11.891362\n",
      "1233    11.863582\n",
      "609     11.682668\n",
      "420     12.237087\n",
      "1278    12.375815\n",
      "847     11.801857\n",
      "1365    12.283034\n",
      "1435    12.066811\n",
      "111     12.100712\n",
      "224     12.864240\n",
      "943     11.870600\n",
      "73      11.883799\n",
      "47      12.428015\n",
      "639     12.485827\n",
      "113     12.287653\n",
      "96      12.273731\n",
      "1239    12.490876\n",
      "1148    11.669074\n",
      "106     11.512925\n",
      "1042    12.185870\n",
      "1123    11.678440\n",
      "1348    12.278393\n",
      "1408    11.740061\n",
      "1391    11.728037\n",
      "Name: SalePrice, dtype: float64\n"
     ]
    }
   ],
   "source": [
    "print(y_train)"
   ]
  },
  {
   "cell_type": "code",
   "execution_count": 125,
   "metadata": {},
   "outputs": [
    {
     "name": "stdout",
     "output_type": "stream",
     "text": [
      "250     11.245046\n",
      "228     11.736069\n",
      "40      11.982929\n",
      "428     12.182804\n",
      "278     12.936752\n",
      "701     11.849398\n",
      "336     12.841130\n",
      "95      12.128111\n",
      "681     11.979385\n",
      "779     11.813030\n",
      "30      10.596635\n",
      "695     12.078239\n",
      "954     11.755872\n",
      "1456    12.254863\n",
      "595     12.672946\n",
      "600     12.524526\n",
      "935     11.288531\n",
      "417     12.384219\n",
      "317     12.506177\n",
      "1080    11.884489\n",
      "624     12.014609\n",
      "588     11.870600\n",
      "7       12.206073\n",
      "949     12.193494\n",
      "693     11.594321\n",
      "1126    12.066811\n",
      "903     12.388394\n",
      "697     11.723996\n",
      "708     12.098153\n",
      "1138    12.185870\n",
      "          ...    \n",
      "597     12.176649\n",
      "1457    12.493130\n",
      "39      11.314475\n",
      "340     12.220469\n",
      "2       12.317167\n",
      "451     12.542545\n",
      "1093    11.891362\n",
      "1233    11.863582\n",
      "609     11.682668\n",
      "420     12.237087\n",
      "1278    12.375815\n",
      "847     11.801857\n",
      "1365    12.283034\n",
      "1435    12.066811\n",
      "111     12.100712\n",
      "224     12.864240\n",
      "943     11.870600\n",
      "73      11.883799\n",
      "47      12.428015\n",
      "639     12.485827\n",
      "113     12.287653\n",
      "96      12.273731\n",
      "1239    12.490876\n",
      "1148    11.669074\n",
      "106     11.512925\n",
      "1042    12.185870\n",
      "1123    11.678440\n",
      "1348    12.278393\n",
      "1408    11.740061\n",
      "1391    11.728037\n",
      "Name: SalePrice, dtype: float64 x is 250    -0.398614\n",
      "228    -1.148404\n",
      "40     -0.364359\n",
      "428    -0.585110\n",
      "278     1.152348\n",
      "701    -0.668843\n",
      "336     0.773647\n",
      "95     -0.086518\n",
      "681     0.008633\n",
      "779    -0.973326\n",
      "30     -0.377681\n",
      "695    -0.720224\n",
      "954    -1.018998\n",
      "1456    1.061003\n",
      "595     0.590957\n",
      "600     0.739393\n",
      "935    -1.462402\n",
      "417     2.109567\n",
      "317     0.844059\n",
      "1080   -0.489959\n",
      "624     0.522448\n",
      "588    -0.080809\n",
      "7       1.093354\n",
      "949    -0.255887\n",
      "693    -0.842018\n",
      "1126    0.075238\n",
      "903     0.294086\n",
      "697    -0.699291\n",
      "708    -0.113161\n",
      "1138    0.098075\n",
      "          ...   \n",
      "597    -0.215924\n",
      "1457    1.569110\n",
      "39     -0.691679\n",
      "340     0.747005\n",
      "2       0.514836\n",
      "451     0.033372\n",
      "1093   -0.600334\n",
      "1233   -0.623170\n",
      "609    -0.925750\n",
      "420    -0.326299\n",
      "1278    0.981076\n",
      "847    -1.239749\n",
      "1365    0.301698\n",
      "1435    0.040984\n",
      "111    -0.162639\n",
      "224     1.668067\n",
      "943     0.221771\n",
      "73     -0.817278\n",
      "47      0.267443\n",
      "639     0.098075\n",
      "113     1.414965\n",
      "96      0.138038\n",
      "1239   -0.059876\n",
      "1148   -0.769703\n",
      "106    -0.891496\n",
      "1042   -0.398614\n",
      "1123   -1.555650\n",
      "1348   -0.040846\n",
      "1408   -0.290142\n",
      "1391    0.130426\n",
      "Name: GrLivArea, dtype: float64\n"
     ]
    }
   ],
   "source": [
    "X_train.shape\n",
    "x=X_train['GrLivArea']\n",
    "print(str(y_train) +\" x is \"+str(x))"
   ]
  },
  {
   "cell_type": "code",
   "execution_count": 126,
   "metadata": {},
   "outputs": [
    {
     "data": {
      "text/plain": [
       "(438, 30)"
      ]
     },
     "execution_count": 126,
     "metadata": {},
     "output_type": "execute_result"
    }
   ],
   "source": [
    "X_test.shape"
   ]
  },
  {
   "cell_type": "code",
   "execution_count": 127,
   "metadata": {},
   "outputs": [
    {
     "data": {
      "text/plain": [
       "(1020,)"
      ]
     },
     "execution_count": 127,
     "metadata": {},
     "output_type": "execute_result"
    }
   ],
   "source": [
    "y_train.shape"
   ]
  },
  {
   "cell_type": "code",
   "execution_count": 128,
   "metadata": {},
   "outputs": [
    {
     "data": {
      "text/plain": [
       "(438,)"
      ]
     },
     "execution_count": 128,
     "metadata": {},
     "output_type": "execute_result"
    }
   ],
   "source": [
    "y_test.shape"
   ]
  },
  {
   "cell_type": "code",
   "execution_count": 129,
   "metadata": {},
   "outputs": [
    {
     "data": {
      "text/html": [
       "<div>\n",
       "<table border=\"1\" class=\"dataframe\">\n",
       "  <thead>\n",
       "    <tr style=\"text-align: right;\">\n",
       "      <th></th>\n",
       "      <th>OverallQual</th>\n",
       "      <th>GrLivArea</th>\n",
       "      <th>TotalBsmtSF</th>\n",
       "      <th>GarageCars</th>\n",
       "      <th>GarageArea</th>\n",
       "      <th>1stFlrSF</th>\n",
       "      <th>BsmtFinSF1</th>\n",
       "      <th>YearBuilt</th>\n",
       "      <th>LotArea</th>\n",
       "      <th>OverallCond</th>\n",
       "      <th>...</th>\n",
       "      <th>WoodDeckSF</th>\n",
       "      <th>MoSold</th>\n",
       "      <th>MasVnrArea</th>\n",
       "      <th>TotRmsAbvGrd</th>\n",
       "      <th>FullBath</th>\n",
       "      <th>MSSubClass</th>\n",
       "      <th>SaleCondition</th>\n",
       "      <th>EnclosedPorch</th>\n",
       "      <th>KitchenQual</th>\n",
       "      <th>ExterCond</th>\n",
       "    </tr>\n",
       "  </thead>\n",
       "  <tbody>\n",
       "    <tr>\n",
       "      <th>count</th>\n",
       "      <td>1020.000000</td>\n",
       "      <td>1020.000000</td>\n",
       "      <td>1020.000000</td>\n",
       "      <td>1020.000000</td>\n",
       "      <td>1020.000000</td>\n",
       "      <td>1020.000000</td>\n",
       "      <td>1020.000000</td>\n",
       "      <td>1020.000000</td>\n",
       "      <td>1020.000000</td>\n",
       "      <td>1020.000000</td>\n",
       "      <td>...</td>\n",
       "      <td>1020.000000</td>\n",
       "      <td>1020.000000</td>\n",
       "      <td>1020.000000</td>\n",
       "      <td>1020.000000</td>\n",
       "      <td>1020.000000</td>\n",
       "      <td>1020.000000</td>\n",
       "      <td>1020.000000</td>\n",
       "      <td>1020.000000</td>\n",
       "      <td>1020.000000</td>\n",
       "      <td>1020.000000</td>\n",
       "    </tr>\n",
       "    <tr>\n",
       "      <th>mean</th>\n",
       "      <td>-0.003049</td>\n",
       "      <td>-0.010774</td>\n",
       "      <td>-0.008537</td>\n",
       "      <td>-0.011106</td>\n",
       "      <td>-0.016341</td>\n",
       "      <td>-0.002572</td>\n",
       "      <td>0.025591</td>\n",
       "      <td>-0.003543</td>\n",
       "      <td>-0.003238</td>\n",
       "      <td>-0.020131</td>\n",
       "      <td>...</td>\n",
       "      <td>0.014710</td>\n",
       "      <td>0.010749</td>\n",
       "      <td>-0.002991</td>\n",
       "      <td>-0.006734</td>\n",
       "      <td>-0.002438</td>\n",
       "      <td>-0.011941</td>\n",
       "      <td>-0.021337</td>\n",
       "      <td>-0.013205</td>\n",
       "      <td>0.015919</td>\n",
       "      <td>0.022463</td>\n",
       "    </tr>\n",
       "    <tr>\n",
       "      <th>std</th>\n",
       "      <td>1.011416</td>\n",
       "      <td>0.974854</td>\n",
       "      <td>0.969260</td>\n",
       "      <td>0.996109</td>\n",
       "      <td>0.974106</td>\n",
       "      <td>0.969380</td>\n",
       "      <td>0.974053</td>\n",
       "      <td>1.004780</td>\n",
       "      <td>1.022167</td>\n",
       "      <td>1.006434</td>\n",
       "      <td>...</td>\n",
       "      <td>1.017050</td>\n",
       "      <td>1.011339</td>\n",
       "      <td>0.983350</td>\n",
       "      <td>1.003125</td>\n",
       "      <td>0.986298</td>\n",
       "      <td>1.002120</td>\n",
       "      <td>1.029461</td>\n",
       "      <td>0.993073</td>\n",
       "      <td>0.977446</td>\n",
       "      <td>0.971684</td>\n",
       "    </tr>\n",
       "    <tr>\n",
       "      <th>min</th>\n",
       "      <td>-3.687150</td>\n",
       "      <td>-2.248350</td>\n",
       "      <td>-2.410341</td>\n",
       "      <td>-2.364630</td>\n",
       "      <td>-2.212205</td>\n",
       "      <td>-2.143438</td>\n",
       "      <td>-0.972685</td>\n",
       "      <td>-3.286697</td>\n",
       "      <td>-0.923413</td>\n",
       "      <td>-4.111561</td>\n",
       "      <td>...</td>\n",
       "      <td>-0.751918</td>\n",
       "      <td>-1.968437</td>\n",
       "      <td>-0.570555</td>\n",
       "      <td>-2.779517</td>\n",
       "      <td>-2.840849</td>\n",
       "      <td>-0.872264</td>\n",
       "      <td>-3.425110</td>\n",
       "      <td>-0.359202</td>\n",
       "      <td>-2.818399</td>\n",
       "      <td>-5.101838</td>\n",
       "    </tr>\n",
       "    <tr>\n",
       "      <th>25%</th>\n",
       "      <td>-0.794879</td>\n",
       "      <td>-0.724506</td>\n",
       "      <td>-0.598761</td>\n",
       "      <td>-1.026506</td>\n",
       "      <td>-0.640678</td>\n",
       "      <td>-0.733020</td>\n",
       "      <td>-0.972685</td>\n",
       "      <td>-0.571727</td>\n",
       "      <td>-0.296889</td>\n",
       "      <td>-0.517023</td>\n",
       "      <td>...</td>\n",
       "      <td>-0.751918</td>\n",
       "      <td>-0.488943</td>\n",
       "      <td>-0.570555</td>\n",
       "      <td>-0.933810</td>\n",
       "      <td>-1.025689</td>\n",
       "      <td>-0.872264</td>\n",
       "      <td>0.208431</td>\n",
       "      <td>-0.359202</td>\n",
       "      <td>-0.409229</td>\n",
       "      <td>0.364083</td>\n",
       "    </tr>\n",
       "    <tr>\n",
       "      <th>50%</th>\n",
       "      <td>-0.071812</td>\n",
       "      <td>-0.113161</td>\n",
       "      <td>-0.137745</td>\n",
       "      <td>0.311618</td>\n",
       "      <td>0.032833</td>\n",
       "      <td>-0.186573</td>\n",
       "      <td>-0.101162</td>\n",
       "      <td>0.057352</td>\n",
       "      <td>-0.105030</td>\n",
       "      <td>-0.517023</td>\n",
       "      <td>...</td>\n",
       "      <td>-0.751918</td>\n",
       "      <td>-0.119069</td>\n",
       "      <td>-0.570555</td>\n",
       "      <td>-0.318574</td>\n",
       "      <td>0.789470</td>\n",
       "      <td>-0.163054</td>\n",
       "      <td>0.208431</td>\n",
       "      <td>-0.359202</td>\n",
       "      <td>0.795356</td>\n",
       "      <td>0.364083</td>\n",
       "    </tr>\n",
       "    <tr>\n",
       "      <th>75%</th>\n",
       "      <td>0.651256</td>\n",
       "      <td>0.494379</td>\n",
       "      <td>0.547795</td>\n",
       "      <td>0.311618</td>\n",
       "      <td>0.481841</td>\n",
       "      <td>0.591388</td>\n",
       "      <td>0.637166</td>\n",
       "      <td>0.951306</td>\n",
       "      <td>0.112879</td>\n",
       "      <td>0.381612</td>\n",
       "      <td>...</td>\n",
       "      <td>0.588449</td>\n",
       "      <td>0.620678</td>\n",
       "      <td>0.350702</td>\n",
       "      <td>0.296662</td>\n",
       "      <td>0.789470</td>\n",
       "      <td>0.309753</td>\n",
       "      <td>0.208431</td>\n",
       "      <td>-0.359202</td>\n",
       "      <td>0.795356</td>\n",
       "      <td>0.364083</td>\n",
       "    </tr>\n",
       "    <tr>\n",
       "      <th>max</th>\n",
       "      <td>2.820459</td>\n",
       "      <td>5.633962</td>\n",
       "      <td>4.883849</td>\n",
       "      <td>2.987865</td>\n",
       "      <td>3.493933</td>\n",
       "      <td>5.342573</td>\n",
       "      <td>3.824529</td>\n",
       "      <td>1.282400</td>\n",
       "      <td>20.511245</td>\n",
       "      <td>3.077516</td>\n",
       "      <td>...</td>\n",
       "      <td>6.085550</td>\n",
       "      <td>2.100173</td>\n",
       "      <td>7.054021</td>\n",
       "      <td>4.603312</td>\n",
       "      <td>2.604629</td>\n",
       "      <td>3.146594</td>\n",
       "      <td>1.116816</td>\n",
       "      <td>8.672338</td>\n",
       "      <td>0.795356</td>\n",
       "      <td>0.364083</td>\n",
       "    </tr>\n",
       "  </tbody>\n",
       "</table>\n",
       "<p>8 rows × 30 columns</p>\n",
       "</div>"
      ],
      "text/plain": [
       "       OverallQual    GrLivArea  TotalBsmtSF   GarageCars   GarageArea  \\\n",
       "count  1020.000000  1020.000000  1020.000000  1020.000000  1020.000000   \n",
       "mean     -0.003049    -0.010774    -0.008537    -0.011106    -0.016341   \n",
       "std       1.011416     0.974854     0.969260     0.996109     0.974106   \n",
       "min      -3.687150    -2.248350    -2.410341    -2.364630    -2.212205   \n",
       "25%      -0.794879    -0.724506    -0.598761    -1.026506    -0.640678   \n",
       "50%      -0.071812    -0.113161    -0.137745     0.311618     0.032833   \n",
       "75%       0.651256     0.494379     0.547795     0.311618     0.481841   \n",
       "max       2.820459     5.633962     4.883849     2.987865     3.493933   \n",
       "\n",
       "          1stFlrSF   BsmtFinSF1    YearBuilt      LotArea  OverallCond  \\\n",
       "count  1020.000000  1020.000000  1020.000000  1020.000000  1020.000000   \n",
       "mean     -0.002572     0.025591    -0.003543    -0.003238    -0.020131   \n",
       "std       0.969380     0.974053     1.004780     1.022167     1.006434   \n",
       "min      -2.143438    -0.972685    -3.286697    -0.923413    -4.111561   \n",
       "25%      -0.733020    -0.972685    -0.571727    -0.296889    -0.517023   \n",
       "50%      -0.186573    -0.101162     0.057352    -0.105030    -0.517023   \n",
       "75%       0.591388     0.637166     0.951306     0.112879     0.381612   \n",
       "max       5.342573     3.824529     1.282400    20.511245     3.077516   \n",
       "\n",
       "          ...        WoodDeckSF       MoSold   MasVnrArea  TotRmsAbvGrd  \\\n",
       "count     ...       1020.000000  1020.000000  1020.000000   1020.000000   \n",
       "mean      ...          0.014710     0.010749    -0.002991     -0.006734   \n",
       "std       ...          1.017050     1.011339     0.983350      1.003125   \n",
       "min       ...         -0.751918    -1.968437    -0.570555     -2.779517   \n",
       "25%       ...         -0.751918    -0.488943    -0.570555     -0.933810   \n",
       "50%       ...         -0.751918    -0.119069    -0.570555     -0.318574   \n",
       "75%       ...          0.588449     0.620678     0.350702      0.296662   \n",
       "max       ...          6.085550     2.100173     7.054021      4.603312   \n",
       "\n",
       "          FullBath   MSSubClass  SaleCondition  EnclosedPorch  KitchenQual  \\\n",
       "count  1020.000000  1020.000000    1020.000000    1020.000000  1020.000000   \n",
       "mean     -0.002438    -0.011941      -0.021337      -0.013205     0.015919   \n",
       "std       0.986298     1.002120       1.029461       0.993073     0.977446   \n",
       "min      -2.840849    -0.872264      -3.425110      -0.359202    -2.818399   \n",
       "25%      -1.025689    -0.872264       0.208431      -0.359202    -0.409229   \n",
       "50%       0.789470    -0.163054       0.208431      -0.359202     0.795356   \n",
       "75%       0.789470     0.309753       0.208431      -0.359202     0.795356   \n",
       "max       2.604629     3.146594       1.116816       8.672338     0.795356   \n",
       "\n",
       "         ExterCond  \n",
       "count  1020.000000  \n",
       "mean      0.022463  \n",
       "std       0.971684  \n",
       "min      -5.101838  \n",
       "25%       0.364083  \n",
       "50%       0.364083  \n",
       "75%       0.364083  \n",
       "max       0.364083  \n",
       "\n",
       "[8 rows x 30 columns]"
      ]
     },
     "execution_count": 129,
     "metadata": {},
     "output_type": "execute_result"
    }
   ],
   "source": [
    "X_train.describe()"
   ]
  },
  {
   "cell_type": "code",
   "execution_count": 131,
   "metadata": {},
   "outputs": [
    {
     "data": {
      "text/plain": [
       "count    1020.000000\n",
       "mean       12.023015\n",
       "std         0.406774\n",
       "min        10.460242\n",
       "25%        11.767083\n",
       "50%        11.995352\n",
       "75%        12.273731\n",
       "max        13.534473\n",
       "Name: SalePrice, dtype: float64"
      ]
     },
     "execution_count": 131,
     "metadata": {},
     "output_type": "execute_result"
    }
   ],
   "source": [
    "y_train.describe()"
   ]
  },
  {
   "cell_type": "code",
   "execution_count": 130,
   "metadata": {},
   "outputs": [
    {
     "data": {
      "text/html": [
       "<div>\n",
       "<table border=\"1\" class=\"dataframe\">\n",
       "  <thead>\n",
       "    <tr style=\"text-align: right;\">\n",
       "      <th></th>\n",
       "      <th>OverallQual</th>\n",
       "      <th>GrLivArea</th>\n",
       "      <th>TotalBsmtSF</th>\n",
       "      <th>GarageCars</th>\n",
       "      <th>GarageArea</th>\n",
       "      <th>1stFlrSF</th>\n",
       "      <th>BsmtFinSF1</th>\n",
       "      <th>YearBuilt</th>\n",
       "      <th>LotArea</th>\n",
       "      <th>OverallCond</th>\n",
       "      <th>...</th>\n",
       "      <th>WoodDeckSF</th>\n",
       "      <th>MoSold</th>\n",
       "      <th>MasVnrArea</th>\n",
       "      <th>TotRmsAbvGrd</th>\n",
       "      <th>FullBath</th>\n",
       "      <th>MSSubClass</th>\n",
       "      <th>SaleCondition</th>\n",
       "      <th>EnclosedPorch</th>\n",
       "      <th>KitchenQual</th>\n",
       "      <th>ExterCond</th>\n",
       "    </tr>\n",
       "  </thead>\n",
       "  <tbody>\n",
       "    <tr>\n",
       "      <th>count</th>\n",
       "      <td>438.000000</td>\n",
       "      <td>438.000000</td>\n",
       "      <td>438.000000</td>\n",
       "      <td>438.000000</td>\n",
       "      <td>438.000000</td>\n",
       "      <td>438.000000</td>\n",
       "      <td>438.000000</td>\n",
       "      <td>438.000000</td>\n",
       "      <td>438.000000</td>\n",
       "      <td>438.000000</td>\n",
       "      <td>...</td>\n",
       "      <td>438.000000</td>\n",
       "      <td>438.000000</td>\n",
       "      <td>438.000000</td>\n",
       "      <td>438.000000</td>\n",
       "      <td>438.000000</td>\n",
       "      <td>438.000000</td>\n",
       "      <td>438.000000</td>\n",
       "      <td>438.000000</td>\n",
       "      <td>438.000000</td>\n",
       "      <td>438.000000</td>\n",
       "    </tr>\n",
       "    <tr>\n",
       "      <th>mean</th>\n",
       "      <td>-0.005778</td>\n",
       "      <td>-0.006570</td>\n",
       "      <td>-0.017242</td>\n",
       "      <td>0.021386</td>\n",
       "      <td>0.023575</td>\n",
       "      <td>-0.026520</td>\n",
       "      <td>-0.094719</td>\n",
       "      <td>0.002774</td>\n",
       "      <td>-0.011432</td>\n",
       "      <td>0.049240</td>\n",
       "      <td>...</td>\n",
       "      <td>-0.038509</td>\n",
       "      <td>-0.023645</td>\n",
       "      <td>-0.010110</td>\n",
       "      <td>0.001686</td>\n",
       "      <td>-0.002072</td>\n",
       "      <td>0.027472</td>\n",
       "      <td>0.044590</td>\n",
       "      <td>0.032391</td>\n",
       "      <td>-0.024202</td>\n",
       "      <td>-0.053973</td>\n",
       "    </tr>\n",
       "    <tr>\n",
       "      <th>std</th>\n",
       "      <td>0.957527</td>\n",
       "      <td>0.947866</td>\n",
       "      <td>0.890257</td>\n",
       "      <td>1.008851</td>\n",
       "      <td>1.035237</td>\n",
       "      <td>0.946720</td>\n",
       "      <td>0.884309</td>\n",
       "      <td>0.988885</td>\n",
       "      <td>0.903696</td>\n",
       "      <td>0.985983</td>\n",
       "      <td>...</td>\n",
       "      <td>0.959534</td>\n",
       "      <td>0.969409</td>\n",
       "      <td>1.009801</td>\n",
       "      <td>0.974026</td>\n",
       "      <td>1.026332</td>\n",
       "      <td>0.997926</td>\n",
       "      <td>0.926651</td>\n",
       "      <td>1.018336</td>\n",
       "      <td>1.036017</td>\n",
       "      <td>1.064117</td>\n",
       "    </tr>\n",
       "    <tr>\n",
       "      <th>min</th>\n",
       "      <td>-2.241014</td>\n",
       "      <td>-1.565165</td>\n",
       "      <td>-2.410341</td>\n",
       "      <td>-2.364630</td>\n",
       "      <td>-2.212205</td>\n",
       "      <td>-2.045142</td>\n",
       "      <td>-0.972685</td>\n",
       "      <td>-3.021822</td>\n",
       "      <td>-0.900069</td>\n",
       "      <td>-2.314292</td>\n",
       "      <td>...</td>\n",
       "      <td>-0.751918</td>\n",
       "      <td>-1.968437</td>\n",
       "      <td>-0.570555</td>\n",
       "      <td>-2.164281</td>\n",
       "      <td>-2.840849</td>\n",
       "      <td>-0.872264</td>\n",
       "      <td>-3.425110</td>\n",
       "      <td>-0.359202</td>\n",
       "      <td>-2.818399</td>\n",
       "      <td>-5.101838</td>\n",
       "    </tr>\n",
       "    <tr>\n",
       "      <th>25%</th>\n",
       "      <td>-0.794879</td>\n",
       "      <td>-0.768275</td>\n",
       "      <td>-0.595911</td>\n",
       "      <td>-1.026506</td>\n",
       "      <td>-0.703820</td>\n",
       "      <td>-0.720733</td>\n",
       "      <td>-0.972685</td>\n",
       "      <td>-0.596559</td>\n",
       "      <td>-0.298116</td>\n",
       "      <td>-0.517023</td>\n",
       "      <td>...</td>\n",
       "      <td>-0.751918</td>\n",
       "      <td>-0.858816</td>\n",
       "      <td>-0.570555</td>\n",
       "      <td>-0.933810</td>\n",
       "      <td>-1.025689</td>\n",
       "      <td>-0.872264</td>\n",
       "      <td>0.208431</td>\n",
       "      <td>-0.359202</td>\n",
       "      <td>-0.409229</td>\n",
       "      <td>0.364083</td>\n",
       "    </tr>\n",
       "    <tr>\n",
       "      <th>50%</th>\n",
       "      <td>-0.071812</td>\n",
       "      <td>-0.069391</td>\n",
       "      <td>-0.208407</td>\n",
       "      <td>0.311618</td>\n",
       "      <td>0.023479</td>\n",
       "      <td>-0.234427</td>\n",
       "      <td>-0.228327</td>\n",
       "      <td>0.024242</td>\n",
       "      <td>-0.102775</td>\n",
       "      <td>-0.517023</td>\n",
       "      <td>...</td>\n",
       "      <td>-0.751918</td>\n",
       "      <td>-0.119069</td>\n",
       "      <td>-0.570555</td>\n",
       "      <td>-0.318574</td>\n",
       "      <td>0.789470</td>\n",
       "      <td>-0.163054</td>\n",
       "      <td>0.208431</td>\n",
       "      <td>-0.359202</td>\n",
       "      <td>0.795356</td>\n",
       "      <td>0.364083</td>\n",
       "    </tr>\n",
       "    <tr>\n",
       "      <th>75%</th>\n",
       "      <td>0.651256</td>\n",
       "      <td>0.508651</td>\n",
       "      <td>0.534118</td>\n",
       "      <td>0.311618</td>\n",
       "      <td>0.481841</td>\n",
       "      <td>0.569401</td>\n",
       "      <td>0.478757</td>\n",
       "      <td>0.951306</td>\n",
       "      <td>0.097425</td>\n",
       "      <td>0.381612</td>\n",
       "      <td>...</td>\n",
       "      <td>0.550552</td>\n",
       "      <td>0.620678</td>\n",
       "      <td>0.311971</td>\n",
       "      <td>0.296662</td>\n",
       "      <td>0.789470</td>\n",
       "      <td>0.309753</td>\n",
       "      <td>0.208431</td>\n",
       "      <td>-0.359202</td>\n",
       "      <td>0.795356</td>\n",
       "      <td>0.364083</td>\n",
       "    </tr>\n",
       "    <tr>\n",
       "      <th>max</th>\n",
       "      <td>2.820459</td>\n",
       "      <td>3.982140</td>\n",
       "      <td>4.897526</td>\n",
       "      <td>2.987865</td>\n",
       "      <td>4.289051</td>\n",
       "      <td>4.488951</td>\n",
       "      <td>3.201856</td>\n",
       "      <td>1.249290</td>\n",
       "      <td>14.876188</td>\n",
       "      <td>3.077516</td>\n",
       "      <td>...</td>\n",
       "      <td>4.577637</td>\n",
       "      <td>2.100173</td>\n",
       "      <td>8.282363</td>\n",
       "      <td>3.372840</td>\n",
       "      <td>2.604629</td>\n",
       "      <td>3.146594</td>\n",
       "      <td>1.116816</td>\n",
       "      <td>4.565605</td>\n",
       "      <td>0.795356</td>\n",
       "      <td>0.364083</td>\n",
       "    </tr>\n",
       "  </tbody>\n",
       "</table>\n",
       "<p>8 rows × 30 columns</p>\n",
       "</div>"
      ],
      "text/plain": [
       "       OverallQual   GrLivArea  TotalBsmtSF  GarageCars  GarageArea  \\\n",
       "count   438.000000  438.000000   438.000000  438.000000  438.000000   \n",
       "mean     -0.005778   -0.006570    -0.017242    0.021386    0.023575   \n",
       "std       0.957527    0.947866     0.890257    1.008851    1.035237   \n",
       "min      -2.241014   -1.565165    -2.410341   -2.364630   -2.212205   \n",
       "25%      -0.794879   -0.768275    -0.595911   -1.026506   -0.703820   \n",
       "50%      -0.071812   -0.069391    -0.208407    0.311618    0.023479   \n",
       "75%       0.651256    0.508651     0.534118    0.311618    0.481841   \n",
       "max       2.820459    3.982140     4.897526    2.987865    4.289051   \n",
       "\n",
       "         1stFlrSF  BsmtFinSF1   YearBuilt     LotArea  OverallCond  \\\n",
       "count  438.000000  438.000000  438.000000  438.000000   438.000000   \n",
       "mean    -0.026520   -0.094719    0.002774   -0.011432     0.049240   \n",
       "std      0.946720    0.884309    0.988885    0.903696     0.985983   \n",
       "min     -2.045142   -0.972685   -3.021822   -0.900069    -2.314292   \n",
       "25%     -0.720733   -0.972685   -0.596559   -0.298116    -0.517023   \n",
       "50%     -0.234427   -0.228327    0.024242   -0.102775    -0.517023   \n",
       "75%      0.569401    0.478757    0.951306    0.097425     0.381612   \n",
       "max      4.488951    3.201856    1.249290   14.876188     3.077516   \n",
       "\n",
       "          ...      WoodDeckSF      MoSold  MasVnrArea  TotRmsAbvGrd  \\\n",
       "count     ...      438.000000  438.000000  438.000000    438.000000   \n",
       "mean      ...       -0.038509   -0.023645   -0.010110      0.001686   \n",
       "std       ...        0.959534    0.969409    1.009801      0.974026   \n",
       "min       ...       -0.751918   -1.968437   -0.570555     -2.164281   \n",
       "25%       ...       -0.751918   -0.858816   -0.570555     -0.933810   \n",
       "50%       ...       -0.751918   -0.119069   -0.570555     -0.318574   \n",
       "75%       ...        0.550552    0.620678    0.311971      0.296662   \n",
       "max       ...        4.577637    2.100173    8.282363      3.372840   \n",
       "\n",
       "         FullBath  MSSubClass  SaleCondition  EnclosedPorch  KitchenQual  \\\n",
       "count  438.000000  438.000000     438.000000     438.000000   438.000000   \n",
       "mean    -0.002072    0.027472       0.044590       0.032391    -0.024202   \n",
       "std      1.026332    0.997926       0.926651       1.018336     1.036017   \n",
       "min     -2.840849   -0.872264      -3.425110      -0.359202    -2.818399   \n",
       "25%     -1.025689   -0.872264       0.208431      -0.359202    -0.409229   \n",
       "50%      0.789470   -0.163054       0.208431      -0.359202     0.795356   \n",
       "75%      0.789470    0.309753       0.208431      -0.359202     0.795356   \n",
       "max      2.604629    3.146594       1.116816       4.565605     0.795356   \n",
       "\n",
       "        ExterCond  \n",
       "count  438.000000  \n",
       "mean    -0.053973  \n",
       "std      1.064117  \n",
       "min     -5.101838  \n",
       "25%      0.364083  \n",
       "50%      0.364083  \n",
       "75%      0.364083  \n",
       "max      0.364083  \n",
       "\n",
       "[8 rows x 30 columns]"
      ]
     },
     "execution_count": 130,
     "metadata": {},
     "output_type": "execute_result"
    }
   ],
   "source": [
    "X_test.describe()"
   ]
  },
  {
   "cell_type": "code",
   "execution_count": 94,
   "metadata": {},
   "outputs": [
    {
     "data": {
      "text/plain": [
       "count    438.000000\n",
       "mean      12.026323\n",
       "std        0.383219\n",
       "min       10.542706\n",
       "25%       11.799417\n",
       "50%       12.013701\n",
       "75%       12.277811\n",
       "max       13.275828\n",
       "Name: SalePrice, dtype: float64"
      ]
     },
     "execution_count": 94,
     "metadata": {},
     "output_type": "execute_result"
    }
   ],
   "source": [
    "y_test.describe()"
   ]
  },
  {
   "cell_type": "code",
   "execution_count": 132,
   "metadata": {},
   "outputs": [
    {
     "name": "stdout",
     "output_type": "stream",
     "text": [
      "0.524421103018032\n",
      "0.06890071552592401\n"
     ]
    },
    {
     "data": {
      "text/plain": [
       "[<matplotlib.lines.Line2D at 0x7ff36b68c908>]"
      ]
     },
     "execution_count": 132,
     "metadata": {},
     "output_type": "execute_result"
    },
    {
     "data": {
      "image/png": "[encoded data removed]",
      "text/plain": [
       "<matplotlib.figure.Figure at 0x7ff36b6d0eb8>"
      ]
     },
     "metadata": {},
     "output_type": "display_data"
    }
   ],
   "source": [
    "x= np.array(X_train['GrLivArea']).reshape(-1,1)\n",
    "model=LinearRegression()\n",
    "model.fit(x,y_train)\n",
    "print(model.score(x, y_train))\n",
    "x_new=np.array(X_test['GrLivArea']).reshape(-1,1)\n",
    "y_pred=model.predict(x_new)\n",
    "rmse=mean_squared_error(y_test, y_pred)\n",
    "print(rmse)\n",
    "plt.scatter(x_new, y_test,  color='black')\n",
    "plt.plot(x_new, y_pred, color='blue', linewidth=3)"
   ]
  },
  {
   "cell_type": "code",
   "execution_count": 150,
   "metadata": {},
   "outputs": [
    {
     "data": {
      "text/plain": [
       "(1020, 30)"
      ]
     },
     "execution_count": 150,
     "metadata": {},
     "output_type": "execute_result"
    }
   ],
   "source": [
    "X_train.shape"
   ]
  },
  {
   "cell_type": "code",
   "execution_count": 151,
   "metadata": {},
   "outputs": [
    {
     "data": {
      "text/plain": [
       "(1020,)"
      ]
     },
     "execution_count": 151,
     "metadata": {},
     "output_type": "execute_result"
    }
   ],
   "source": [
    "y_train.shape"
   ]
  },
  {
   "cell_type": "code",
   "execution_count": 145,
   "metadata": {},
   "outputs": [],
   "source": [
    "cols = ['OverallQual', 'GrLivArea', 'TotalBsmtSF']\n",
    "df2 = df[cols]"
   ]
  },
  {
   "cell_type": "code",
   "execution_count": 146,
   "metadata": {},
   "outputs": [
    {
     "data": {
      "text/html": [
       "<div>\n",
       "<table border=\"1\" class=\"dataframe\">\n",
       "  <thead>\n",
       "    <tr style=\"text-align: right;\">\n",
       "      <th></th>\n",
       "      <th>OverallQual</th>\n",
       "    </tr>\n",
       "  </thead>\n",
       "  <tbody>\n",
       "    <tr>\n",
       "      <th>0</th>\n",
       "      <td>7</td>\n",
       "    </tr>\n",
       "    <tr>\n",
       "      <th>1</th>\n",
       "      <td>6</td>\n",
       "    </tr>\n",
       "    <tr>\n",
       "      <th>2</th>\n",
       "      <td>7</td>\n",
       "    </tr>\n",
       "    <tr>\n",
       "      <th>3</th>\n",
       "      <td>7</td>\n",
       "    </tr>\n",
       "    <tr>\n",
       "      <th>4</th>\n",
       "      <td>8</td>\n",
       "    </tr>\n",
       "  </tbody>\n",
       "</table>\n",
       "</div>"
      ],
      "text/plain": [
       "   OverallQual\n",
       "0            7\n",
       "1            6\n",
       "2            7\n",
       "3            7\n",
       "4            8"
      ]
     },
     "execution_count": 146,
     "metadata": {},
     "output_type": "execute_result"
    }
   ],
   "source": [
    "df2.head()"
   ]
  },
  {
   "cell_type": "code",
   "execution_count": 153,
   "metadata": {},
   "outputs": [],
   "source": [
    "X_train_mlr = X_train[['OverallQual', 'GrLivArea', 'TotalBsmtSF']]"
   ]
  },
  {
   "cell_type": "code",
   "execution_count": 155,
   "metadata": {},
   "outputs": [
    {
     "data": {
      "text/html": [
       "<div>\n",
       "<table border=\"1\" class=\"dataframe\">\n",
       "  <thead>\n",
       "    <tr style=\"text-align: right;\">\n",
       "      <th></th>\n",
       "      <th>OverallQual</th>\n",
       "      <th>GrLivArea</th>\n",
       "      <th>TotalBsmtSF</th>\n",
       "    </tr>\n",
       "  </thead>\n",
       "  <tbody>\n",
       "    <tr>\n",
       "      <th>250</th>\n",
       "      <td>-2.241014</td>\n",
       "      <td>-0.398614</td>\n",
       "      <td>-0.750913</td>\n",
       "    </tr>\n",
       "  </tbody>\n",
       "</table>\n",
       "</div>"
      ],
      "text/plain": [
       "     OverallQual  GrLivArea  TotalBsmtSF\n",
       "250    -2.241014  -0.398614    -0.750913"
      ]
     },
     "execution_count": 155,
     "metadata": {},
     "output_type": "execute_result"
    }
   ],
   "source": [
    "X_train_mlr[:1]"
   ]
  },
  {
   "cell_type": "code",
   "execution_count": 156,
   "metadata": {},
   "outputs": [],
   "source": [
    "X_test_mlr = X_test[['OverallQual', 'GrLivArea', 'TotalBsmtSF']]"
   ]
  },
  {
   "cell_type": "code",
   "execution_count": 158,
   "metadata": {},
   "outputs": [
    {
     "data": {
      "text/plain": [
       "LinearRegression(copy_X=True, fit_intercept=True, n_jobs=1, normalize=False)"
      ]
     },
     "execution_count": 158,
     "metadata": {},
     "output_type": "execute_result"
    }
   ],
   "source": [
    "mlr = LinearRegression()\n",
    "mlr.fit(X_train_mlr, y_train)"
   ]
  },
  {
   "cell_type": "code",
   "execution_count": 159,
   "metadata": {},
   "outputs": [
    {
     "data": {
      "text/plain": [
       "0.8160200787610811"
      ]
     },
     "execution_count": 159,
     "metadata": {},
     "output_type": "execute_result"
    }
   ],
   "source": [
    "mlr.score(X_train_mlr, y_train)"
   ]
  },
  {
   "cell_type": "code",
   "execution_count": 160,
   "metadata": {},
   "outputs": [],
   "source": [
    "y_pred_mlr = mlr.predict(X_test_mlr)"
   ]
  },
  {
   "cell_type": "code",
   "execution_count": 161,
   "metadata": {},
   "outputs": [
    {
     "data": {
      "text/plain": [
       "0.18008704069744552"
      ]
     },
     "execution_count": 161,
     "metadata": {},
     "output_type": "execute_result"
    }
   ],
   "source": [
    "np.sqrt(mean_squared_error(y_true=y_test, y_pred=y_pred_mlr))"
   ]
  },
  {
   "cell_type": "code",
   "execution_count": 162,
   "metadata": {},
   "outputs": [
    {
     "name": "stderr",
     "output_type": "stream",
     "text": [
      "/home/nbuser/anaconda3_420/lib/python3.5/site-packages/scipy/stats/stats.py:1713: FutureWarning: Using a non-tuple sequence for multidimensional indexing is deprecated; use `arr[tuple(seq)]` instead of `arr[seq]`. In the future this will be interpreted as an array index, `arr[np.array(seq)]`, which will result either in an error or a different result.\n",
      "  return np.add.reduce(sorted[indexer] * weights, axis=axis) / sumval\n"
     ]
    },
    {
     "data": {
      "text/plain": [
       "<matplotlib.axes._subplots.AxesSubplot at 0x7ff369fdcc18>"
      ]
     },
     "execution_count": 162,
     "metadata": {},
     "output_type": "execute_result"
    },
    {
     "data": {
      "image/png": "[encoded data removed]",
      "text/plain": [
       "<matplotlib.figure.Figure at 0x7ff36a7dd2e8>"
      ]
     },
     "metadata": {},
     "output_type": "display_data"
    }
   ],
   "source": [
    "ax1 = sns.distplot(y_test, hist=False, color=\"r\", label=\"Actual Value\")\n",
    "sns.distplot(y_pred_mlr, hist=False, color=\"b\", label=\"Predicted Values\" , ax=ax1)"
   ]
  },
  {
   "cell_type": "code",
   "execution_count": 165,
   "metadata": {},
   "outputs": [],
   "source": [
    "test_set_r2 = r2_score(y_test, y_pred_mlr)"
   ]
  },
  {
   "cell_type": "code",
   "execution_count": 166,
   "metadata": {},
   "outputs": [
    {
     "name": "stdout",
     "output_type": "stream",
     "text": [
      "0.7786583314360516\n"
     ]
    }
   ],
   "source": [
    "print(test_set_r2)"
   ]
  },
  {
   "cell_type": "code",
   "execution_count": null,
   "metadata": {},
   "outputs": [],
   "source": []
  }
 ],
 "metadata": {
  "kernelspec": {
   "display_name": "Python 3",
   "language": "python",
   "name": "python3"
  },
  "language_info": {
   "codemirror_mode": {
    "name": "ipython",
    "version": 3
   },
   "file_extension": ".py",
   "mimetype": "text/x-python",
   "name": "python",
   "nbconvert_exporter": "python",
   "pygments_lexer": "ipython3",
   "version": "3.7.6"
  }
 },
 "nbformat": 4,
 "nbformat_minor": 2
}
